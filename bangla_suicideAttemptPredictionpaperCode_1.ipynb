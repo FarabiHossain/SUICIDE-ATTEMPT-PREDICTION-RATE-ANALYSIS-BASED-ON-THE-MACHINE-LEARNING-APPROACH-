{
  "nbformat": 4,
  "nbformat_minor": 0,
  "metadata": {
    "colab": {
      "name": "bangla_suicideAttemptPredictionpaperCode_1.ipynb",
      "provenance": [],
      "collapsed_sections": [],
      "include_colab_link": true
    },
    "kernelspec": {
      "display_name": "Python 3",
      "name": "python3"
    }
  },
  "cells": [
    {
      "cell_type": "markdown",
      "metadata": {
        "id": "view-in-github",
        "colab_type": "text"
      },
      "source": [
        "<a href=\"https://colab.research.google.com/github/FarabiHossain/SUICIDE-ATTEMPT-PREDICTION-RATE-ANALYSIS-BASED-ON-THE-MACHINE-LEARNING-APPROACH-/blob/main/bangla_suicideAttemptPredictionpaperCode_1.ipynb\" target=\"_parent\"><img src=\"https://colab.research.google.com/assets/colab-badge.svg\" alt=\"Open In Colab\"/></a>"
      ]
    },
    {
      "cell_type": "code",
      "metadata": {
        "id": "469FR9ToLaat"
      },
      "source": [
        "import dill\n",
        "dill.dump_session('notebook_env.db')\n",
        "#dill.load_session('notebook_env.db')"
      ],
      "execution_count": null,
      "outputs": []
    },
    {
      "cell_type": "markdown",
      "metadata": {
        "id": "64PVDkaJPOtp"
      },
      "source": [
        ""
      ]
    },
    {
      "cell_type": "code",
      "metadata": {
        "id": "T_OKEtFGPo2F"
      },
      "source": [
        "import pandas as pd\n",
        "import numpy as np\n",
        "import matplotlib.pyplot as plt\n",
        "%matplotlib inline"
      ],
      "execution_count": null,
      "outputs": []
    },
    {
      "cell_type": "code",
      "metadata": {
        "id": "3PHLNeYDP1Ul"
      },
      "source": [
        "d_parser = lambda x: pd.datetime.strptime(x, '%m/%d/%Y %H:%M:%S')\n",
        "dataset = pd.read_excel('/content/s_a_p_data_set -fnl.xlsx')"
      ],
      "execution_count": null,
      "outputs": []
    },
    {
      "cell_type": "code",
      "metadata": {
        "id": "P9fo9fDWP3b8",
        "colab": {
          "base_uri": "https://localhost:8080/"
        },
        "outputId": "2513a2f8-6395-4768-b2e7-fc742c4d7498"
      },
      "source": [
        "dataset.attempt_suicide.value_counts()"
      ],
      "execution_count": null,
      "outputs": [
        {
          "output_type": "execute_result",
          "data": {
            "text/plain": [
              "No     167\n",
              "Yes     32\n",
              "Name: attempt_suicide, dtype: int64"
            ]
          },
          "metadata": {
            "tags": []
          },
          "execution_count": 4
        }
      ]
    },
    {
      "cell_type": "code",
      "metadata": {
        "id": "mrnZqtrGP779"
      },
      "source": [
        "#dataset.describe(include='all')"
      ],
      "execution_count": null,
      "outputs": []
    },
    {
      "cell_type": "code",
      "metadata": {
        "id": "pTY2LHKjQWsY",
        "colab": {
          "base_uri": "https://localhost:8080/",
          "height": 283
        },
        "outputId": "8a068763-3efe-4d4a-cc25-f74195a53368"
      },
      "source": [
        "fig, ax = plt.subplots()\n",
        "# ax.set_ylim(0, 105)\n",
        "# whiskers on 0.3 and 99.7 percentile to determine outliers\n",
        "dataset.boxplot(column='friends', ax=ax, whis=[0.3,99.7])"
      ],
      "execution_count": null,
      "outputs": [
        {
          "output_type": "execute_result",
          "data": {
            "text/plain": [
              "<matplotlib.axes._subplots.AxesSubplot at 0x7f5a25805cd0>"
            ]
          },
          "metadata": {
            "tags": []
          },
          "execution_count": 6
        },
        {
          "output_type": "display_data",
          "data": {
            "image/png": "[encoded data removed]",
            "text/plain": [
              "<Figure size 432x288 with 1 Axes>"
            ]
          },
          "metadata": {
            "tags": [],
            "needs_background": "light"
          }
        }
      ]
    },
    {
      "cell_type": "code",
      "metadata": {
        "id": "M-NIlJXBQdJq",
        "colab": {
          "base_uri": "https://localhost:8080/",
          "height": 337
        },
        "outputId": "73d4fe36-0b38-4251-ed30-d6312e30fae4"
      },
      "source": [
        "dataset.loc[dataset['friends'] <= 50,:] \\\n",
        "        .groupby('attempt_suicide')['friends'] \\\n",
        "        .plot.hist(legend=True, density=True, alpha = 0.5)"
      ],
      "execution_count": null,
      "outputs": [
        {
          "output_type": "execute_result",
          "data": {
            "text/plain": [
              "attempt_suicide\n",
              "No     AxesSubplot(0.125,0.125;0.775x0.755)\n",
              "Yes    AxesSubplot(0.125,0.125;0.775x0.755)\n",
              "Name: friends, dtype: object"
            ]
          },
          "metadata": {
            "tags": []
          },
          "execution_count": 7
        },
        {
          "output_type": "display_data",
          "data": {
            "image/png": "[encoded data removed]",
            "text/plain": [
              "<Figure size 432x288 with 1 Axes>"
            ]
          },
          "metadata": {
            "tags": [],
            "needs_background": "light"
          }
        }
      ]
    },
    {
      "cell_type": "code",
      "metadata": {
        "id": "Aes8c3kSQqOS",
        "colab": {
          "base_uri": "https://localhost:8080/",
          "height": 337
        },
        "outputId": "c1908fa9-878c-4a00-ab75-8223d1a9962d"
      },
      "source": [
        "dataset = dataset[dataset['friends'] < dataset['friends'].quantile(0.997)]\n",
        "dataset.groupby('social_fear')['friends'].plot.hist(legend=True, alpha = 0.5)"
      ],
      "execution_count": null,
      "outputs": [
        {
          "output_type": "execute_result",
          "data": {
            "text/plain": [
              "social_fear\n",
              "No     AxesSubplot(0.125,0.125;0.775x0.755)\n",
              "Yes    AxesSubplot(0.125,0.125;0.775x0.755)\n",
              "Name: friends, dtype: object"
            ]
          },
          "metadata": {
            "tags": []
          },
          "execution_count": 8
        },
        {
          "output_type": "display_data",
          "data": {
            "image/png": "[encoded data removed]",
            "text/plain": [
              "<Figure size 432x288 with 1 Axes>"
            ]
          },
          "metadata": {
            "tags": [],
            "needs_background": "light"
          }
        }
      ]
    },
    {
      "cell_type": "code",
      "metadata": {
        "id": "YVdU4-EZQ9ql",
        "colab": {
          "base_uri": "https://localhost:8080/"
        },
        "outputId": "792539c5-6b6f-4b33-b363-ed6f96d65eb2"
      },
      "source": [
        "dataset.groupby('social_fear')['friends'].max()"
      ],
      "execution_count": null,
      "outputs": [
        {
          "output_type": "execute_result",
          "data": {
            "text/plain": [
              "social_fear\n",
              "No     20\n",
              "Yes    20\n",
              "Name: friends, dtype: int64"
            ]
          },
          "metadata": {
            "tags": []
          },
          "execution_count": 9
        }
      ]
    },
    {
      "cell_type": "code",
      "metadata": {
        "id": "OG2x9olGRFF8",
        "colab": {
          "base_uri": "https://localhost:8080/"
        },
        "outputId": "3a4eb126-e08f-4e2e-8038-eac59e963e54"
      },
      "source": [
        "dataset['improve_yourself_how'].head(15)"
      ],
      "execution_count": null,
      "outputs": [
        {
          "output_type": "execute_result",
          "data": {
            "text/plain": [
              "0     Joined a gym, Therapy, Other exercise, join cl...\n",
              "1                                                  None\n",
              "2                                                  None\n",
              "3           Cosmetic survey, Joined a gym/go to the gym\n",
              "4                                 socual clubs/meet ups\n",
              "5                                     Therapy, meet ups\n",
              "6                                        Other exercise\n",
              "7                                                  None\n",
              "8                                                  None\n",
              "9                                                  None\n",
              "10                                              Therapy\n",
              "11                                                 None\n",
              "12                                                 None\n",
              "13                                         Joined a gym\n",
              "14                             Other exercise, meet ups\n",
              "Name: improve_yourself_how, dtype: object"
            ]
          },
          "metadata": {
            "tags": []
          },
          "execution_count": 10
        }
      ]
    },
    {
      "cell_type": "code",
      "metadata": {
        "id": "ItoWXupqRHEz",
        "colab": {
          "base_uri": "https://localhost:8080/",
          "height": 337
        },
        "outputId": "ff79ae2b-c01e-4bca-e87e-eab71561ce42"
      },
      "source": [
        "dataset['improve_yourself_how'] = dataset['improve_yourself_how'].str.lower()\n",
        "# none isn't an improvment, so we don't need to count it\n",
        "dataset['total_improves'] = dataset['improve_yourself_how'].str.split(',').apply(lambda x: len([i for i in x if i != 'none']))\n",
        "dataset.groupby('attempt_suicide')['total_improves'].plot.hist(legend=True, density=True, alpha = 0.5)"
      ],
      "execution_count": null,
      "outputs": [
        {
          "output_type": "execute_result",
          "data": {
            "text/plain": [
              "attempt_suicide\n",
              "No     AxesSubplot(0.125,0.125;0.775x0.755)\n",
              "Yes    AxesSubplot(0.125,0.125;0.775x0.755)\n",
              "Name: total_improves, dtype: object"
            ]
          },
          "metadata": {
            "tags": []
          },
          "execution_count": 11
        },
        {
          "output_type": "display_data",
          "data": {
            "image/png": "[encoded data removed]",
            "text/plain": [
              "<Figure size 432x288 with 1 Axes>"
            ]
          },
          "metadata": {
            "tags": [],
            "needs_background": "light"
          }
        }
      ]
    },
    {
      "cell_type": "code",
      "metadata": {
        "colab": {
          "base_uri": "https://localhost:8080/"
        },
        "id": "kCSJA1jcRh6H",
        "outputId": "87a9d492-ebf2-4f7e-c9d7-d61557179b2f"
      },
      "source": [
        "improvements = dataset['improve_yourself_how'].str.split(',').apply(pd.Series).stack().reset_index(drop=True)\n",
        "improvements = improvements.str.strip()\n",
        "top_improvements = improvements.value_counts()\n",
        "top_improvements"
      ],
      "execution_count": null,
      "outputs": [
        {
          "output_type": "execute_result",
          "data": {
            "text/plain": [
              "none                                87\n",
              "other exercise                      30\n",
              "joined a gym                        20\n",
              "therapy                             19\n",
              "meet ups                            18\n",
              "join clubs/socual clubs/meet ups    12\n",
              "socual clubs/meet ups               11\n",
              "joined a gym/go to the gym           6\n",
              "                                     5\n",
              "join clubs                           4\n",
              "socual clubs                         4\n",
              "join clubs/socual clubs              3\n",
              "join clubs/meet ups                  3\n",
              "cosmetic survey                      2\n",
              "go to the gym                        2\n",
              "dtype: int64"
            ]
          },
          "metadata": {
            "tags": []
          },
          "execution_count": 12
        }
      ]
    },
    {
      "cell_type": "code",
      "metadata": {
        "id": "SSuzp0SGRohe"
      },
      "source": [
        "top_improvements = top_improvements[top_improvements > 5]"
      ],
      "execution_count": null,
      "outputs": []
    },
    {
      "cell_type": "code",
      "metadata": {
        "id": "KuGKoDCxR7jQ"
      },
      "source": [
        "for imp in top_improvements.index:\n",
        "    dataset['[improve] {}'.format(imp)] = dataset['improve_yourself_how'].str.contains(imp, regex=False)"
      ],
      "execution_count": null,
      "outputs": []
    },
    {
      "cell_type": "code",
      "metadata": {
        "colab": {
          "base_uri": "https://localhost:8080/",
          "height": 193
        },
        "id": "mg98WtMZR87K",
        "outputId": "9cf22c1d-a092-41af-c106-8b02a8d7673d"
      },
      "source": [
        "col = {x:'sum' for x in dataset.columns if '[improve]' in x}\n",
        "dataset.groupby('attempt_suicide').agg(col).apply(lambda x: x/x.sum(), axis=1)"
      ],
      "execution_count": null,
      "outputs": [
        {
          "output_type": "execute_result",
          "data": {
            "text/html": [
              "<div>\n",
              "<style scoped>\n",
              "    .dataframe tbody tr th:only-of-type {\n",
              "        vertical-align: middle;\n",
              "    }\n",
              "\n",
              "    .dataframe tbody tr th {\n",
              "        vertical-align: top;\n",
              "    }\n",
              "\n",
              "    .dataframe thead th {\n",
              "        text-align: right;\n",
              "    }\n",
              "</style>\n",
              "<table border=\"1\" class=\"dataframe\">\n",
              "  <thead>\n",
              "    <tr style=\"text-align: right;\">\n",
              "      <th></th>\n",
              "      <th>[improve] none</th>\n",
              "      <th>[improve] other exercise</th>\n",
              "      <th>[improve] joined a gym</th>\n",
              "      <th>[improve] therapy</th>\n",
              "      <th>[improve] meet ups</th>\n",
              "      <th>[improve] join clubs/socual clubs/meet ups</th>\n",
              "      <th>[improve] socual clubs/meet ups</th>\n",
              "      <th>[improve] joined a gym/go to the gym</th>\n",
              "    </tr>\n",
              "    <tr>\n",
              "      <th>attempt_suicide</th>\n",
              "      <th></th>\n",
              "      <th></th>\n",
              "      <th></th>\n",
              "      <th></th>\n",
              "      <th></th>\n",
              "      <th></th>\n",
              "      <th></th>\n",
              "      <th></th>\n",
              "    </tr>\n",
              "  </thead>\n",
              "  <tbody>\n",
              "    <tr>\n",
              "      <th>No</th>\n",
              "      <td>0.373737</td>\n",
              "      <td>0.121212</td>\n",
              "      <td>0.116162</td>\n",
              "      <td>0.080808</td>\n",
              "      <td>0.151515</td>\n",
              "      <td>0.040404</td>\n",
              "      <td>0.090909</td>\n",
              "      <td>0.025253</td>\n",
              "    </tr>\n",
              "    <tr>\n",
              "      <th>Yes</th>\n",
              "      <td>0.265306</td>\n",
              "      <td>0.122449</td>\n",
              "      <td>0.061224</td>\n",
              "      <td>0.061224</td>\n",
              "      <td>0.285714</td>\n",
              "      <td>0.081633</td>\n",
              "      <td>0.102041</td>\n",
              "      <td>0.020408</td>\n",
              "    </tr>\n",
              "  </tbody>\n",
              "</table>\n",
              "</div>"
            ],
            "text/plain": [
              "                 [improve] none  ...  [improve] joined a gym/go to the gym\n",
              "attempt_suicide                  ...                                      \n",
              "No                     0.373737  ...                              0.025253\n",
              "Yes                    0.265306  ...                              0.020408\n",
              "\n",
              "[2 rows x 8 columns]"
            ]
          },
          "metadata": {
            "tags": []
          },
          "execution_count": 15
        }
      ]
    },
    {
      "cell_type": "code",
      "metadata": {
        "id": "A3zywdPKSNJ8",
        "colab": {
          "base_uri": "https://localhost:8080/",
          "height": 337
        },
        "outputId": "5b8cb243-7a4a-4434-d3ff-ae4caed3a581"
      },
      "source": [
        "dataset['what_help_from_others'] = dataset['what_help_from_others'].str.lower()\n",
        "dataset['total_help'] = dataset['what_help_from_others'].str.split(',').apply(lambda x: len([i for i in x if i != \"i don't want help\"]))\n",
        "dataset.groupby('attempt_suicide')['total_help'].plot.hist(legend=True, density=True, alpha = 0.5)"
      ],
      "execution_count": null,
      "outputs": [
        {
          "output_type": "execute_result",
          "data": {
            "text/plain": [
              "attempt_suicide\n",
              "No     AxesSubplot(0.125,0.125;0.775x0.755)\n",
              "Yes    AxesSubplot(0.125,0.125;0.775x0.755)\n",
              "Name: total_help, dtype: object"
            ]
          },
          "metadata": {
            "tags": []
          },
          "execution_count": 16
        },
        {
          "output_type": "display_data",
          "data": {
            "image/png": "[encoded data removed]",
            "text/plain": [
              "<Figure size 432x288 with 1 Axes>"
            ]
          },
          "metadata": {
            "tags": [],
            "needs_background": "light"
          }
        }
      ]
    },
    {
      "cell_type": "code",
      "metadata": {
        "id": "Nww5pNO5SS9R"
      },
      "source": [
        "help_from_others = dataset['what_help_from_others'].str.split(',').apply(pd.Series).stack().reset_index(drop=True)\n",
        "help_from_others = help_from_others.str.strip()"
      ],
      "execution_count": null,
      "outputs": []
    },
    {
      "cell_type": "code",
      "metadata": {
        "id": "y5JaGyo-SXLN",
        "colab": {
          "base_uri": "https://localhost:8080/",
          "height": 894
        },
        "outputId": "58395ea9-137f-4aba-da21-9d9ed59f9ba8"
      },
      "source": [
        "top_help_from_others = help_from_others.value_counts()\n",
        "top_help_from_others.plot(kind='bar')"
      ],
      "execution_count": null,
      "outputs": [
        {
          "output_type": "execute_result",
          "data": {
            "text/plain": [
              "<matplotlib.axes._subplots.AxesSubplot at 0x7f5a1e7e93d0>"
            ]
          },
          "metadata": {
            "tags": []
          },
          "execution_count": 18
        },
        {
          "output_type": "display_data",
          "data": {
            "image/png": "[encoded data removed]",
            "text/plain": [
              "<Figure size 432x288 with 1 Axes>"
            ]
          },
          "metadata": {
            "tags": [],
            "needs_background": "light"
          }
        }
      ]
    },
    {
      "cell_type": "code",
      "metadata": {
        "id": "tz9U5yjASgno",
        "colab": {
          "base_uri": "https://localhost:8080/",
          "height": 383
        },
        "outputId": "081573dd-adfe-43a6-dce7-74f570bf6932"
      },
      "source": [
        "top_help_from_others = top_help_from_others[top_help_from_others > 5]\n",
        "top_help_from_others.plot(kind='bar')"
      ],
      "execution_count": null,
      "outputs": [
        {
          "output_type": "execute_result",
          "data": {
            "text/plain": [
              "<matplotlib.axes._subplots.AxesSubplot at 0x7f5a1e6a8ed0>"
            ]
          },
          "metadata": {
            "tags": []
          },
          "execution_count": 19
        },
        {
          "output_type": "display_data",
          "data": {
            "image/png": "[encoded data removed]",
            "text/plain": [
              "<Figure size 432x288 with 1 Axes>"
            ]
          },
          "metadata": {
            "tags": [],
            "needs_background": "light"
          }
        }
      ]
    },
    {
      "cell_type": "code",
      "metadata": {
        "id": "u5z_-bFiSjr8"
      },
      "source": [
        "for hlp in top_help_from_others.index:\n",
        "    dataset['[help] {}'.format(hlp)] = dataset['what_help_from_others'].str.contains(hlp, regex=False)"
      ],
      "execution_count": null,
      "outputs": []
    },
    {
      "cell_type": "code",
      "metadata": {
        "id": "BKkYWzJbSsbU",
        "colab": {
          "base_uri": "https://localhost:8080/",
          "height": 142
        },
        "outputId": "c5917e37-1dda-4040-facd-f89ab297fd4a"
      },
      "source": [
        "col = {x:'sum' for x in dataset.columns if '[help]' in x}\n",
        "dataset.groupby('attempt_suicide').agg(col).apply(lambda x: x/x.sum(), axis=1)"
      ],
      "execution_count": null,
      "outputs": [
        {
          "output_type": "execute_result",
          "data": {
            "text/html": [
              "<div>\n",
              "<style scoped>\n",
              "    .dataframe tbody tr th:only-of-type {\n",
              "        vertical-align: middle;\n",
              "    }\n",
              "\n",
              "    .dataframe tbody tr th {\n",
              "        vertical-align: top;\n",
              "    }\n",
              "\n",
              "    .dataframe thead th {\n",
              "        text-align: right;\n",
              "    }\n",
              "</style>\n",
              "<table border=\"1\" class=\"dataframe\">\n",
              "  <thead>\n",
              "    <tr style=\"text-align: right;\">\n",
              "      <th></th>\n",
              "      <th>[help] i don't want help</th>\n",
              "      <th>[help] set me up with a date</th>\n",
              "      <th>[help] wingman/wingwoman</th>\n",
              "      <th>[help] date coaching</th>\n",
              "    </tr>\n",
              "    <tr>\n",
              "      <th>attempt_suicide</th>\n",
              "      <th></th>\n",
              "      <th></th>\n",
              "      <th></th>\n",
              "      <th></th>\n",
              "    </tr>\n",
              "  </thead>\n",
              "  <tbody>\n",
              "    <tr>\n",
              "      <th>No</th>\n",
              "      <td>0.340807</td>\n",
              "      <td>0.286996</td>\n",
              "      <td>0.210762</td>\n",
              "      <td>0.161435</td>\n",
              "    </tr>\n",
              "    <tr>\n",
              "      <th>Yes</th>\n",
              "      <td>0.357143</td>\n",
              "      <td>0.238095</td>\n",
              "      <td>0.190476</td>\n",
              "      <td>0.214286</td>\n",
              "    </tr>\n",
              "  </tbody>\n",
              "</table>\n",
              "</div>"
            ],
            "text/plain": [
              "                 [help] i don't want help  ...  [help] date coaching\n",
              "attempt_suicide                            ...                      \n",
              "No                               0.340807  ...              0.161435\n",
              "Yes                              0.357143  ...              0.214286\n",
              "\n",
              "[2 rows x 4 columns]"
            ]
          },
          "metadata": {
            "tags": []
          },
          "execution_count": 21
        }
      ]
    },
    {
      "cell_type": "code",
      "metadata": {
        "id": "ag6JN9knS3Ij",
        "colab": {
          "base_uri": "https://localhost:8080/",
          "height": 359
        },
        "outputId": "992919c1-7e9a-42a1-9e67-110b339f7431"
      },
      "source": [
        "job_dataset = dataset.loc[:,('job_title', 'employment', 'edu_level')].applymap(lambda x: x.strip().lower() if type(x) == str else x)\n",
        "job_dataset[pd.isna(job_dataset['job_title'])]"
      ],
      "execution_count": null,
      "outputs": [
        {
          "output_type": "execute_result",
          "data": {
            "text/html": [
              "<div>\n",
              "<style scoped>\n",
              "    .dataframe tbody tr th:only-of-type {\n",
              "        vertical-align: middle;\n",
              "    }\n",
              "\n",
              "    .dataframe tbody tr th {\n",
              "        vertical-align: top;\n",
              "    }\n",
              "\n",
              "    .dataframe thead th {\n",
              "        text-align: right;\n",
              "    }\n",
              "</style>\n",
              "<table border=\"1\" class=\"dataframe\">\n",
              "  <thead>\n",
              "    <tr style=\"text-align: right;\">\n",
              "      <th></th>\n",
              "      <th>job_title</th>\n",
              "      <th>employment</th>\n",
              "      <th>edu_level</th>\n",
              "    </tr>\n",
              "  </thead>\n",
              "  <tbody>\n",
              "    <tr>\n",
              "      <th>30</th>\n",
              "      <td>NaN</td>\n",
              "      <td>a student</td>\n",
              "      <td>ssc</td>\n",
              "    </tr>\n",
              "    <tr>\n",
              "      <th>52</th>\n",
              "      <td>NaN</td>\n",
              "      <td>employed for wages</td>\n",
              "      <td>hsc</td>\n",
              "    </tr>\n",
              "    <tr>\n",
              "      <th>54</th>\n",
              "      <td>NaN</td>\n",
              "      <td>a student</td>\n",
              "      <td>college, no degree</td>\n",
              "    </tr>\n",
              "    <tr>\n",
              "      <th>55</th>\n",
              "      <td>NaN</td>\n",
              "      <td>a student</td>\n",
              "      <td>diploma or the equivalent</td>\n",
              "    </tr>\n",
              "    <tr>\n",
              "      <th>119</th>\n",
              "      <td>NaN</td>\n",
              "      <td>self-employed</td>\n",
              "      <td>diploma or the equivalent</td>\n",
              "    </tr>\n",
              "    <tr>\n",
              "      <th>126</th>\n",
              "      <td>NaN</td>\n",
              "      <td>looking for work</td>\n",
              "      <td>hsc</td>\n",
              "    </tr>\n",
              "    <tr>\n",
              "      <th>128</th>\n",
              "      <td>NaN</td>\n",
              "      <td>retired</td>\n",
              "      <td>hsc</td>\n",
              "    </tr>\n",
              "    <tr>\n",
              "      <th>130</th>\n",
              "      <td>NaN</td>\n",
              "      <td>looking for work</td>\n",
              "      <td>ma</td>\n",
              "    </tr>\n",
              "    <tr>\n",
              "      <th>166</th>\n",
              "      <td>NaN</td>\n",
              "      <td>looking for work</td>\n",
              "      <td>bsc</td>\n",
              "    </tr>\n",
              "    <tr>\n",
              "      <th>170</th>\n",
              "      <td>NaN</td>\n",
              "      <td>out of work but not currently looking for work</td>\n",
              "      <td>hsc</td>\n",
              "    </tr>\n",
              "  </tbody>\n",
              "</table>\n",
              "</div>"
            ],
            "text/plain": [
              "    job_title  ...                  edu_level\n",
              "30        NaN  ...                        ssc\n",
              "52        NaN  ...                        hsc\n",
              "54        NaN  ...         college, no degree\n",
              "55        NaN  ...  diploma or the equivalent\n",
              "119       NaN  ...  diploma or the equivalent\n",
              "126       NaN  ...                        hsc\n",
              "128       NaN  ...                        hsc\n",
              "130       NaN  ...                         ma\n",
              "166       NaN  ...                        bsc\n",
              "170       NaN  ...                        hsc\n",
              "\n",
              "[10 rows x 3 columns]"
            ]
          },
          "metadata": {
            "tags": []
          },
          "execution_count": 22
        }
      ]
    },
    {
      "cell_type": "code",
      "metadata": {
        "id": "i2PQC08jS7FX",
        "colab": {
          "base_uri": "https://localhost:8080/"
        },
        "outputId": "16e75b48-3c34-449d-9924-8f025fd63ce8"
      },
      "source": [
        "job_dataset['job_title'].value_counts()"
      ],
      "execution_count": null,
      "outputs": [
        {
          "output_type": "execute_result",
          "data": {
            "text/plain": [
              "student              42\n",
              "none                 14\n",
              "unemployed            8\n",
              "engineer              6\n",
              "software engineer     5\n",
              "                     ..\n",
              "freshman              1\n",
              "freelance writer      1\n",
              "call center agent     1\n",
              "management            1\n",
              "financial analyst     1\n",
              "Name: job_title, Length: 94, dtype: int64"
            ]
          },
          "metadata": {
            "tags": []
          },
          "execution_count": 23
        }
      ]
    },
    {
      "cell_type": "code",
      "metadata": {
        "id": "xr5kmCFuS_4D",
        "colab": {
          "base_uri": "https://localhost:8080/"
        },
        "outputId": "fe9d0a22-fdf0-40e9-fb55-0570cb41841a"
      },
      "source": [
        "dataset.shape\n"
      ],
      "execution_count": null,
      "outputs": [
        {
          "output_type": "execute_result",
          "data": {
            "text/plain": [
              "(198, 33)"
            ]
          },
          "metadata": {
            "tags": []
          },
          "execution_count": 24
        }
      ]
    },
    {
      "cell_type": "code",
      "metadata": {
        "id": "C4-w_5fAUEzD"
      },
      "source": [
        "dataset = dataset.drop(['what_help_from_others', 'improve_yourself_how', 'job_title','date','race', \n",
        "                        'bodyweight', 'virgin','pay_for_sex','prostitution_legal'], axis=1)"
      ],
      "execution_count": null,
      "outputs": []
    },
    {
      "cell_type": "code",
      "metadata": {
        "id": "eP31Xl9hUY23",
        "colab": {
          "base_uri": "https://localhost:8080/"
        },
        "outputId": "480628af-599f-4ce8-cd34-33deb01c2cf6"
      },
      "source": [
        "dataset.columns"
      ],
      "execution_count": null,
      "outputs": [
        {
          "output_type": "execute_result",
          "data": {
            "text/plain": [
              "Index(['gender', 'sexuallity', 'age', 'income', 'friends', 'social_fear',\n",
              "       'depressed', 'attempt_suicide', 'employment', 'edu_level',\n",
              "       'total_improves', '[improve] none', '[improve] other exercise',\n",
              "       '[improve] joined a gym', '[improve] therapy', '[improve] meet ups',\n",
              "       '[improve] join clubs/socual clubs/meet ups',\n",
              "       '[improve] socual clubs/meet ups',\n",
              "       '[improve] joined a gym/go to the gym', 'total_help',\n",
              "       '[help] i don't want help', '[help] set me up with a date',\n",
              "       '[help] wingman/wingwoman', '[help] date coaching'],\n",
              "      dtype='object')"
            ]
          },
          "metadata": {
            "tags": []
          },
          "execution_count": 26
        }
      ]
    },
    {
      "cell_type": "code",
      "metadata": {
        "id": "dVN3oMXGVQXD",
        "colab": {
          "base_uri": "https://localhost:8080/"
        },
        "outputId": "f0dc934b-1499-4269-9d36-69ecc38aefa8"
      },
      "source": [
        "dataset['income'] = '৳' + dataset['income'].astype(str)\n",
        "new_income = []\n",
        "for c in dataset['income']:\n",
        "    print(c.strip('৳').split(' ')[0].replace(',','.'))\n",
        "    new_income.append(float(c.strip('৳').split(' ')[0].replace(',','.')))"
      ],
      "execution_count": null,
      "outputs": [
        {
          "output_type": "stream",
          "text": [
            "20.000\n",
            "0\n",
            "12000\n",
            "0\n",
            "15000\n",
            "18000\n",
            "5000\n",
            "0\n",
            "10.000\n",
            "35000\n",
            "25.000\n",
            "12000\n",
            "3000\n",
            "7000\n",
            "0\n",
            "3000\n",
            "22000\n",
            "0\n",
            "0\n",
            "20000\n",
            "18000\n",
            "0\n",
            "8000\n",
            "0\n",
            "0\n",
            "0\n",
            "12.300\n",
            "0\n",
            "20500\n",
            "1200\n",
            "0\n",
            "18000\n",
            "0\n",
            "16000\n",
            "35000\n",
            "22500\n",
            "6000\n",
            "12000\n",
            "0\n",
            "24.000\n",
            "0\n",
            "9000\n",
            "24000\n",
            "0\n",
            "22.000\n",
            "5.000\n",
            "0\n",
            "5.000\n",
            "5.000\n",
            "18000\n",
            "5000\n",
            "4500\n",
            "0\n",
            "12000\n",
            "0\n",
            "0\n",
            "35000\n",
            "4000\n",
            "0\n",
            "0\n",
            "18000\n",
            "0\n",
            "12000\n",
            "0\n",
            "0\n",
            "12000\n",
            "0\n",
            "24.000\n",
            "0\n",
            "0\n",
            "0\n",
            "8000\n",
            "14000\n",
            "12000\n",
            "180000\n",
            "20000\n",
            "0\n",
            "17000\n",
            "6000\n",
            "0\n",
            "22000\n",
            "11000\n",
            "0\n",
            "0\n",
            "32000\n",
            "0\n",
            "0\n",
            "0\n",
            "8000\n",
            "22000\n",
            "15000\n",
            "6000\n",
            "0\n",
            "0\n",
            "6000\n",
            "22000\n",
            "18000\n",
            "0\n",
            "0\n",
            "0\n",
            "0\n",
            "12000\n",
            "4000\n",
            "14000\n",
            "35000\n",
            "0\n",
            "8000\n",
            "5000\n",
            "0\n",
            "9000\n",
            "5000\n",
            "0\n",
            "0\n",
            "30000\n",
            "0\n",
            "0\n",
            "0\n",
            "20000\n",
            "0\n",
            "8000\n",
            "0\n",
            "0\n",
            "0\n",
            "0\n",
            "15000\n",
            "0\n",
            "8000\n",
            "5000\n",
            "12000\n",
            "0\n",
            "0\n",
            "12000\n",
            "7000\n",
            "27000\n",
            "0\n",
            "20000\n",
            "25000\n",
            "0\n",
            "35000\n",
            "0\n",
            "20000\n",
            "0\n",
            "0\n",
            "8000\n",
            "0\n",
            "35000\n",
            "0\n",
            "0\n",
            "0\n",
            "0\n",
            "6000\n",
            "20000\n",
            "12000\n",
            "30000\n",
            "15000\n",
            "0\n",
            "0\n",
            "5000\n",
            "10000\n",
            "0\n",
            "0\n",
            "0\n",
            "20000\n",
            "55000\n",
            "7000\n",
            "0\n",
            "6000\n",
            "0\n",
            "0\n",
            "0\n",
            "4000\n",
            "12000\n",
            "6000\n",
            "0\n",
            "0\n",
            "10000\n",
            "35000\n",
            "16000\n",
            "45000\n",
            "22000\n",
            "5000\n",
            "35000\n",
            "14000\n",
            "8000\n",
            "0\n",
            "0\n",
            "5000\n",
            "0\n",
            "0\n",
            "19000\n",
            "0\n",
            "12000\n",
            "10000\n",
            "0\n",
            "0\n",
            "0\n",
            "10.000\n",
            "0\n"
          ],
          "name": "stdout"
        }
      ]
    },
    {
      "cell_type": "code",
      "metadata": {
        "id": "L7eOapI4XU4E"
      },
      "source": [
        "dataset['income_process'] = new_income\n",
        "dataset = dataset.drop(labels=['income'],axis=1)"
      ],
      "execution_count": null,
      "outputs": []
    },
    {
      "cell_type": "code",
      "metadata": {
        "id": "24T8L6--Xm4i"
      },
      "source": [
        "def preprocess(col):\n",
        "    cols= list(dict(dataset[col].value_counts()).keys())\n",
        "    vals= []\n",
        "    for i in range(len(cols)):\n",
        "        vals.append(i)\n",
        "    val_dict = dict((key,val) for key,val in zip(cols,vals))\n",
        "    dataset[col] = dataset[col].map(val_dict)"
      ],
      "execution_count": null,
      "outputs": []
    },
    {
      "cell_type": "code",
      "metadata": {
        "id": "U_t63ncQXw4k"
      },
      "source": [
        "for col in dataset.columns:\n",
        "  preprocess(col)"
      ],
      "execution_count": null,
      "outputs": []
    },
    {
      "cell_type": "code",
      "metadata": {
        "id": "9US4s5LVY5Ou",
        "colab": {
          "base_uri": "https://localhost:8080/",
          "height": 292
        },
        "outputId": "30ccacdb-48b0-48b1-f24a-67b0c9529d4c"
      },
      "source": [
        "dataset.head()"
      ],
      "execution_count": null,
      "outputs": [
        {
          "output_type": "execute_result",
          "data": {
            "text/html": [
              "<div>\n",
              "<style scoped>\n",
              "    .dataframe tbody tr th:only-of-type {\n",
              "        vertical-align: middle;\n",
              "    }\n",
              "\n",
              "    .dataframe tbody tr th {\n",
              "        vertical-align: top;\n",
              "    }\n",
              "\n",
              "    .dataframe thead th {\n",
              "        text-align: right;\n",
              "    }\n",
              "</style>\n",
              "<table border=\"1\" class=\"dataframe\">\n",
              "  <thead>\n",
              "    <tr style=\"text-align: right;\">\n",
              "      <th></th>\n",
              "      <th>gender</th>\n",
              "      <th>sexuallity</th>\n",
              "      <th>age</th>\n",
              "      <th>friends</th>\n",
              "      <th>social_fear</th>\n",
              "      <th>depressed</th>\n",
              "      <th>attempt_suicide</th>\n",
              "      <th>employment</th>\n",
              "      <th>edu_level</th>\n",
              "      <th>total_improves</th>\n",
              "      <th>[improve] none</th>\n",
              "      <th>[improve] other exercise</th>\n",
              "      <th>[improve] joined a gym</th>\n",
              "      <th>[improve] therapy</th>\n",
              "      <th>[improve] meet ups</th>\n",
              "      <th>[improve] join clubs/socual clubs/meet ups</th>\n",
              "      <th>[improve] socual clubs/meet ups</th>\n",
              "      <th>[improve] joined a gym/go to the gym</th>\n",
              "      <th>total_help</th>\n",
              "      <th>[help] i don't want help</th>\n",
              "      <th>[help] set me up with a date</th>\n",
              "      <th>[help] wingman/wingwoman</th>\n",
              "      <th>[help] date coaching</th>\n",
              "      <th>income_process</th>\n",
              "    </tr>\n",
              "  </thead>\n",
              "  <tbody>\n",
              "    <tr>\n",
              "      <th>0</th>\n",
              "      <td>0</td>\n",
              "      <td>0</td>\n",
              "      <td>13</td>\n",
              "      <td>0</td>\n",
              "      <td>0</td>\n",
              "      <td>0</td>\n",
              "      <td>1</td>\n",
              "      <td>1</td>\n",
              "      <td>7</td>\n",
              "      <td>3</td>\n",
              "      <td>0</td>\n",
              "      <td>1</td>\n",
              "      <td>1</td>\n",
              "      <td>1</td>\n",
              "      <td>1</td>\n",
              "      <td>0</td>\n",
              "      <td>0</td>\n",
              "      <td>0</td>\n",
              "      <td>2</td>\n",
              "      <td>0</td>\n",
              "      <td>1</td>\n",
              "      <td>1</td>\n",
              "      <td>0</td>\n",
              "      <td>38</td>\n",
              "    </tr>\n",
              "    <tr>\n",
              "      <th>1</th>\n",
              "      <td>0</td>\n",
              "      <td>0</td>\n",
              "      <td>1</td>\n",
              "      <td>0</td>\n",
              "      <td>0</td>\n",
              "      <td>0</td>\n",
              "      <td>0</td>\n",
              "      <td>0</td>\n",
              "      <td>0</td>\n",
              "      <td>1</td>\n",
              "      <td>1</td>\n",
              "      <td>0</td>\n",
              "      <td>0</td>\n",
              "      <td>0</td>\n",
              "      <td>0</td>\n",
              "      <td>0</td>\n",
              "      <td>0</td>\n",
              "      <td>0</td>\n",
              "      <td>3</td>\n",
              "      <td>0</td>\n",
              "      <td>1</td>\n",
              "      <td>1</td>\n",
              "      <td>1</td>\n",
              "      <td>0</td>\n",
              "    </tr>\n",
              "    <tr>\n",
              "      <th>2</th>\n",
              "      <td>0</td>\n",
              "      <td>0</td>\n",
              "      <td>7</td>\n",
              "      <td>3</td>\n",
              "      <td>0</td>\n",
              "      <td>0</td>\n",
              "      <td>0</td>\n",
              "      <td>2</td>\n",
              "      <td>1</td>\n",
              "      <td>1</td>\n",
              "      <td>1</td>\n",
              "      <td>0</td>\n",
              "      <td>0</td>\n",
              "      <td>0</td>\n",
              "      <td>0</td>\n",
              "      <td>0</td>\n",
              "      <td>0</td>\n",
              "      <td>0</td>\n",
              "      <td>0</td>\n",
              "      <td>1</td>\n",
              "      <td>0</td>\n",
              "      <td>0</td>\n",
              "      <td>0</td>\n",
              "      <td>1</td>\n",
              "    </tr>\n",
              "    <tr>\n",
              "      <th>3</th>\n",
              "      <td>0</td>\n",
              "      <td>0</td>\n",
              "      <td>4</td>\n",
              "      <td>8</td>\n",
              "      <td>0</td>\n",
              "      <td>0</td>\n",
              "      <td>0</td>\n",
              "      <td>0</td>\n",
              "      <td>0</td>\n",
              "      <td>2</td>\n",
              "      <td>0</td>\n",
              "      <td>0</td>\n",
              "      <td>1</td>\n",
              "      <td>0</td>\n",
              "      <td>0</td>\n",
              "      <td>0</td>\n",
              "      <td>0</td>\n",
              "      <td>1</td>\n",
              "      <td>1</td>\n",
              "      <td>0</td>\n",
              "      <td>0</td>\n",
              "      <td>0</td>\n",
              "      <td>1</td>\n",
              "      <td>0</td>\n",
              "    </tr>\n",
              "    <tr>\n",
              "      <th>4</th>\n",
              "      <td>0</td>\n",
              "      <td>0</td>\n",
              "      <td>0</td>\n",
              "      <td>3</td>\n",
              "      <td>1</td>\n",
              "      <td>0</td>\n",
              "      <td>0</td>\n",
              "      <td>1</td>\n",
              "      <td>1</td>\n",
              "      <td>0</td>\n",
              "      <td>0</td>\n",
              "      <td>0</td>\n",
              "      <td>0</td>\n",
              "      <td>0</td>\n",
              "      <td>1</td>\n",
              "      <td>0</td>\n",
              "      <td>1</td>\n",
              "      <td>0</td>\n",
              "      <td>0</td>\n",
              "      <td>1</td>\n",
              "      <td>0</td>\n",
              "      <td>0</td>\n",
              "      <td>0</td>\n",
              "      <td>9</td>\n",
              "    </tr>\n",
              "  </tbody>\n",
              "</table>\n",
              "</div>"
            ],
            "text/plain": [
              "   gender  sexuallity  ...  [help] date coaching  income_process\n",
              "0       0           0  ...                     0              38\n",
              "1       0           0  ...                     1               0\n",
              "2       0           0  ...                     0               1\n",
              "3       0           0  ...                     1               0\n",
              "4       0           0  ...                     0               9\n",
              "\n",
              "[5 rows x 24 columns]"
            ]
          },
          "metadata": {
            "tags": []
          },
          "execution_count": 31
        }
      ]
    },
    {
      "cell_type": "code",
      "metadata": {
        "id": "6Pa7U8xrZEn0"
      },
      "source": [
        "import re\n",
        "regex = re.compile(r\"\\[|\\]|<\", re.IGNORECASE)\n",
        "\n",
        "dataset.columns = [regex.sub(\"_\", col) if any(x in str(col) for x in set(('[', ']', '<'))) else col for col in dataset.columns.values]\n",
        "X = dataset.drop(labels=['attempt_suicide'],axis=1)\n",
        "y = dataset['attempt_suicide']\n",
        "\n",
        "from sklearn.model_selection import train_test_split\n",
        "X_train, X_test, y_train, y_test = train_test_split(X, y, test_size=0.2,random_state=100)\n"
      ],
      "execution_count": null,
      "outputs": []
    },
    {
      "cell_type": "code",
      "metadata": {
        "id": "uUtgycgzdP2h",
        "colab": {
          "base_uri": "https://localhost:8080/",
          "height": 89
        },
        "outputId": "c522cd99-dae9-4db5-c5b3-c462218c4095"
      },
      "source": [
        "\"\"\"from imblearn.over_sampling import SMOTE\n",
        "smote = SMOTE(random_state=10)\n",
        "X_train_smote,y_train_smote = smote.fit_sample(X_train,y_train)\n",
        "#\"X_test_smote,y_test_smote = smote.fit_sample(,y_test)\n",
        "\n",
        "from collections import Counter\n",
        "print(\"Before smote --\",Counter(y_train))\n",
        "print(\"Before smote --\",Counter(y_train_smote))\n",
        "print(X_train_smote.shape)\n",
        "#X_test = X_test.astype('float')\n",
        "#print(np.array(X_train_smote))\"\"\""
      ],
      "execution_count": null,
      "outputs": [
        {
          "output_type": "execute_result",
          "data": {
            "application/vnd.google.colaboratory.intrinsic+json": {
              "type": "string"
            },
            "text/plain": [
              "'from imblearn.over_sampling import SMOTE\\nsmote = SMOTE(random_state=10)\\nX_train_smote,y_train_smote = smote.fit_sample(X_train,y_train)\\n#\"X_test_smote,y_test_smote = smote.fit_sample(,y_test)\\n\\nfrom collections import Counter\\nprint(\"Before smote --\",Counter(y_train))\\nprint(\"Before smote --\",Counter(y_train_smote))\\nprint(X_train_smote.shape)\\n#X_test = X_test.astype(\\'float\\')\\n#print(np.array(X_train_smote))'"
            ]
          },
          "metadata": {
            "tags": []
          },
          "execution_count": 33
        }
      ]
    },
    {
      "cell_type": "code",
      "metadata": {
        "id": "XMsIvw-bNKzf",
        "colab": {
          "base_uri": "https://localhost:8080/"
        },
        "outputId": "ff920475-59bc-481d-b601-8ff780db2d4b"
      },
      "source": [
        "#import library\n",
        "from imblearn.over_sampling import RandomOverSampler\n",
        "\n",
        "ros = RandomOverSampler(random_state=42)\n",
        "# fit predictor and target variablex_ros, y_ros = ros.fit_resample(x, y)\n",
        "X_train_smote,y_train_smote = ros.fit_sample(X_train,y_train)\n",
        "from collections import Counter\n",
        "print(\"Before sampling --\",Counter(y_train))\n",
        "print(\"after sampling --\",Counter(y_train_smote))"
      ],
      "execution_count": null,
      "outputs": [
        {
          "output_type": "stream",
          "text": [
            "Before sampling -- Counter({0: 127, 1: 31})\n",
            "after sampling -- Counter({0: 127, 1: 127})\n"
          ],
          "name": "stdout"
        },
        {
          "output_type": "stream",
          "text": [
            "/usr/local/lib/python3.7/dist-packages/sklearn/externals/six.py:31: FutureWarning: The module is deprecated in version 0.21 and will be removed in version 0.23 since we've dropped support for Python 2.7. Please rely on the official version of six (https://pypi.org/project/six/).\n",
            "  \"(https://pypi.org/project/six/).\", FutureWarning)\n",
            "/usr/local/lib/python3.7/dist-packages/sklearn/utils/deprecation.py:144: FutureWarning: The sklearn.neighbors.base module is  deprecated in version 0.22 and will be removed in version 0.24. The corresponding classes / functions should instead be imported from sklearn.neighbors. Anything that cannot be imported from sklearn.neighbors is now part of the private API.\n",
            "  warnings.warn(message, FutureWarning)\n",
            "/usr/local/lib/python3.7/dist-packages/sklearn/utils/deprecation.py:87: FutureWarning: Function safe_indexing is deprecated; safe_indexing is deprecated in version 0.22 and will be removed in version 0.24.\n",
            "  warnings.warn(msg, category=FutureWarning)\n"
          ],
          "name": "stderr"
        }
      ]
    },
    {
      "cell_type": "code",
      "metadata": {
        "id": "kxLS0YVKm_oF",
        "colab": {
          "base_uri": "https://localhost:8080/"
        },
        "outputId": "4a6a1458-9f83-4575-be19-63f94367e852"
      },
      "source": [
        "from xgboost import  XGBClassifier \n",
        "\"\"\"84.04model = XGBClassifier(max_depth=15,subsample=0.9,n_estimators=400,\n",
        "                      learning_rate=0.025,min_child_weight=0.6,random_state = 10)\n",
        "#model = XGBClassifier(learning_rate=0.01, max_depth= 15, min_child_weight = 0.7, \n",
        "                      #n_estimators=100, random_state= 10, subsample = 0.7)\"\"\"\n",
        "\"\"\"model = XGBClassifier(max_depth=20,subsample=0.9,n_estimators=400,\n",
        "                      learning_rate=0.025,min_child_weight=0.6,\n",
        "                      random_state = 10,scale_pos_weight=1, \n",
        "                      colsample_bytree = 0.5) 86 balanced\"\"\"\n",
        "\n",
        "model = XGBClassifier(max_depth=12,subsample=0.74,n_estimators=250,\n",
        "                      learning_rate=0.01,min_child_weight=0.6,\n",
        "                      random_state = 10,scale_pos_weight=0.4, \n",
        "                      colsample_bytree = 0.5)\n",
        "model.fit(X_train_smote,y_train_smote)\n",
        "#X_test = X_test[X_train_smote.dtype.names]\n",
        "y_predict = model.predict(X_test.values)\n",
        "#y_train_predict = model.predict(X_train_smote)\n",
        "xgbyproba = model.predict_proba(X_test.values)[::,1]\n",
        "\n",
        "from sklearn.metrics import accuracy_score\n",
        "print(\"test - result\",accuracy_score(y_test,y_predict))\n",
        "#print(\"Train- Result\",accuracy_score(y_train,y_train_predict))\n"
      ],
      "execution_count": null,
      "outputs": [
        {
          "output_type": "stream",
          "text": [
            "test - result 0.95\n"
          ],
          "name": "stdout"
        }
      ]
    },
    {
      "cell_type": "code",
      "metadata": {
        "id": "zEQ4MoP-cBNt",
        "colab": {
          "base_uri": "https://localhost:8080/",
          "height": 313
        },
        "outputId": "38d494be-da82-410a-dd2d-e637a3547794"
      },
      "source": [
        "from sklearn.metrics import roc_curve,roc_auc_score\n",
        "xgbt_fpr, xgbt_tpr, thresholds = roc_curve(y_test, model.predict_proba(X_test.values)[:,1],drop_intermediate=False)\n",
        "auc = roc_auc_score(y_test,model.predict_proba(X_test.values)[:,1])\n",
        "print(\"roc_auc_score\",auc)\n",
        "plt.xlim([0.0, 1.0])\n",
        "plt.ylim([0.0, 1.0])\n",
        "plt.title('ROC curve for suicide attempt  classifier')\n",
        "plt.xlabel('False Positive Rate (1 - Specificity)')\n",
        "plt.ylabel('True Positive Rate (Sensitivity)')\n",
        "plt.plot(xgbt_fpr, xgbt_tpr,color='red',lw=5)\n",
        "plt.show()"
      ],
      "execution_count": null,
      "outputs": [
        {
          "output_type": "stream",
          "text": [
            "roc_auc_score 0.20512820512820518\n"
          ],
          "name": "stdout"
        },
        {
          "output_type": "display_data",
          "data": {
            "image/png": "[encoded data removed]",
            "text/plain": [
              "<Figure size 432x288 with 1 Axes>"
            ]
          },
          "metadata": {
            "tags": [],
            "needs_background": "light"
          }
        }
      ]
    },
    {
      "cell_type": "code",
      "metadata": {
        "id": "EvWhG_lftdzE",
        "colab": {
          "base_uri": "https://localhost:8080/",
          "height": 143
        },
        "outputId": "49aedfd2-fa64-4790-e448-57f42257130c"
      },
      "source": [
        "\"\"\"from sklearn.model_selection import GridSearchCV\n",
        "clf =  XGBClassifier()\n",
        "parameters = {\n",
        "    'n_estimators': [100, 250, 500],\n",
        "    'max_depth': [6, 9, 12],\n",
        "    'subsample': [0.9, 1.0,0.7],\n",
        "    'learning_rate': [0.01, 0.02,0.05],\n",
        "    'min_child_weight': [0.7, 0.8,0.6],\n",
        "    'random_state': [5, 10,105]\n",
        "}\n",
        "grid = GridSearchCV(clf,\n",
        "                    parameters, n_jobs=4,\n",
        "                    scoring=\"neg_log_loss\",\n",
        "                    cv=3)\n",
        "\n",
        "grid.fit(X_train_smote, y_train_smote)\n",
        "print(\"Best: %f using %s\" % (grid.best_score_, grid.best_params_))\n",
        "\n",
        "means = grid.cv_results_['mean_test_score']\n",
        "stds = grid.cv_results_['std_test_score']\n",
        "params = grid.cv_results_['params']\n",
        "\n",
        "for mean, stdev, param in zip(means, stds, params):\n",
        "    print(\"%f (%f) with: %r\" % (mean, stdev, param))\"\"\""
      ],
      "execution_count": null,
      "outputs": [
        {
          "output_type": "execute_result",
          "data": {
            "application/vnd.google.colaboratory.intrinsic+json": {
              "type": "string"
            },
            "text/plain": [
              "'from sklearn.model_selection import GridSearchCV\\nclf =  XGBClassifier()\\nparameters = {\\n    \\'n_estimators\\': [100, 250, 500],\\n    \\'max_depth\\': [6, 9, 12],\\n    \\'subsample\\': [0.9, 1.0,0.7],\\n    \\'learning_rate\\': [0.01, 0.02,0.05],\\n    \\'min_child_weight\\': [0.7, 0.8,0.6],\\n    \\'random_state\\': [5, 10,105]\\n}\\ngrid = GridSearchCV(clf,\\n                    parameters, n_jobs=4,\\n                    scoring=\"neg_log_loss\",\\n                    cv=3)\\n\\ngrid.fit(X_train_smote, y_train_smote)\\nprint(\"Best: %f using %s\" % (grid.best_score_, grid.best_params_))\\n\\nmeans = grid.cv_results_[\\'mean_test_score\\']\\nstds = grid.cv_results_[\\'std_test_score\\']\\nparams = grid.cv_results_[\\'params\\']\\n\\nfor mean, stdev, param in zip(means, stds, params):\\n    print(\"%f (%f) with: %r\" % (mean, stdev, param))'"
            ]
          },
          "metadata": {
            "tags": []
          },
          "execution_count": 37
        }
      ]
    },
    {
      "cell_type": "code",
      "metadata": {
        "id": "rQBG-KSWnD2q",
        "colab": {
          "base_uri": "https://localhost:8080/",
          "height": 477
        },
        "outputId": "90b2e56a-f30c-4111-e432-e19a7e15b760"
      },
      "source": [
        "import seaborn as sns\n",
        "from sklearn.metrics import confusion_matrix,classification_report\n",
        "cf_matrix = confusion_matrix(y_test.values, y_predict)\n",
        "print(cf_matrix)\n",
        "group_names = [\"True Pos\",\"False Neg\",\"False Pos\",\"True Neg\"]\n",
        "group_counts = ['{0:0.0f}'.format(value) for value in\n",
        "                cf_matrix.flatten()]\n",
        "group_percentages = ['{0:.2%}'.format(value) for value in\n",
        "                     cf_matrix.flatten()/np.sum(cf_matrix)]\n",
        "labels = [f'{v1}\\n{v2}\\n{v3}' for v1, v2, v3 in\n",
        "          zip(group_names,group_counts,group_percentages)]\n",
        "labels = np.asarray(labels).reshape(2,2)\n",
        "import seaborn as sns\n",
        "sns.heatmap(cf_matrix, annot=labels, fmt=\"\", cmap='Blues')\n",
        "#labels = [\"True Neg\",\"False Pos\",\"False Neg\",\"True Pos\"]\n",
        "\n",
        "plt.xlabel(\"Predict\")\n",
        "plt.ylabel(\"Truth\")\n",
        "plt.show()\n",
        "print(classification_report(y_test.values,y_predict))"
      ],
      "execution_count": null,
      "outputs": [
        {
          "output_type": "stream",
          "text": [
            "[[38  1]\n",
            " [ 1  0]]\n"
          ],
          "name": "stdout"
        },
        {
          "output_type": "display_data",
          "data": {
            "image/png": "[encoded data removed]",
            "text/plain": [
              "<Figure size 432x288 with 2 Axes>"
            ]
          },
          "metadata": {
            "tags": [],
            "needs_background": "light"
          }
        },
        {
          "output_type": "stream",
          "text": [
            "              precision    recall  f1-score   support\n",
            "\n",
            "           0       0.97      0.97      0.97        39\n",
            "           1       0.00      0.00      0.00         1\n",
            "\n",
            "    accuracy                           0.95        40\n",
            "   macro avg       0.49      0.49      0.49        40\n",
            "weighted avg       0.95      0.95      0.95        40\n",
            "\n"
          ],
          "name": "stdout"
        }
      ]
    },
    {
      "cell_type": "code",
      "metadata": {
        "id": "SwO1aFMinH44",
        "colab": {
          "base_uri": "https://localhost:8080/",
          "height": 107
        },
        "outputId": "d8162dbd-7729-45c8-ffed-251ae113a123"
      },
      "source": [
        "\"\"\"from sklearn.metrics import roc_curve, auc\n",
        "#import scikitplot.metrics as skplt\n",
        "#print(y_pred_svm)\n",
        "xgbt_fpr, xgbt_tpr, threshold = roc_curve(y_test, y_predict)\n",
        "#print(svm_fpr)\n",
        "auc_svm = auc(xg_fpr, xg_tpr)\n",
        "#skplt.plot_roc (Y_test, preds)\n",
        "plt.show()\n",
        "plt.figure(figsize=(5, 5), dpi=100)\n",
        "plt.plot(xg_fpr, xg_tpr, marker='.')\n",
        "#plt.plot(logistic_fpr, logistic_tpr, marker='.', label='Logistic (auc = %0.3f)' % auc_logistic)\n",
        "\n",
        "plt.xlabel('False Positive Rate -->')\n",
        "plt.ylabel('True Positive Rate -->')\n",
        "\n",
        "plt.legend()\n",
        "\n",
        "plt.show()\"\"\""
      ],
      "execution_count": null,
      "outputs": [
        {
          "output_type": "execute_result",
          "data": {
            "application/vnd.google.colaboratory.intrinsic+json": {
              "type": "string"
            },
            "text/plain": [
              "\"from sklearn.metrics import roc_curve, auc\\n#import scikitplot.metrics as skplt\\n#print(y_pred_svm)\\nxgbt_fpr, xgbt_tpr, threshold = roc_curve(y_test, y_predict)\\n#print(svm_fpr)\\nauc_svm = auc(xg_fpr, xg_tpr)\\n#skplt.plot_roc (Y_test, preds)\\nplt.show()\\nplt.figure(figsize=(5, 5), dpi=100)\\nplt.plot(xg_fpr, xg_tpr, marker='.')\\n#plt.plot(logistic_fpr, logistic_tpr, marker='.', label='Logistic (auc = %0.3f)' % auc_logistic)\\n\\nplt.xlabel('False Positive Rate -->')\\nplt.ylabel('True Positive Rate -->')\\n\\nplt.legend()\\n\\nplt.show()\""
            ]
          },
          "metadata": {
            "tags": []
          },
          "execution_count": 39
        }
      ]
    },
    {
      "cell_type": "code",
      "metadata": {
        "id": "XZoWRme8nKrr",
        "colab": {
          "base_uri": "https://localhost:8080/",
          "height": 313
        },
        "outputId": "624f7151-6f5d-42e4-bf8c-4a9271922891"
      },
      "source": [
        "import lightgbm as lgb\n",
        "#X_train_smote y_train_smote\n",
        "eval_set = [(X_train_smote,y_train_smote), (X_test, y_test)]\n",
        "\n",
        "\"\"\"model = lgb.LGBMClassifier(learning_rate=0.025,n_estimators=400,\n",
        "                           random_state=100,max_depth= 5,max_bin = 200,\n",
        "                           num_leaves = 25,min_child_weight=0.7)\"\"\"\n",
        "\n",
        "\"\"\"model = lgb.LGBMClassifier(learning_rate=0.025,n_estimators= 400,\n",
        "                          random_state=5,max_depth= 5,max_bin = 200,\n",
        "                           num_leaves = 10,min_child_weight=0.6)\n",
        "\"bagging_fraction\" : 0.7,\n",
        "        \"feature_fraction\" : 0.5,\n",
        "        \"bagging_frequency\" : 6,\n",
        "\n",
        "\"\"\"\n",
        "\"\"\"model = lgb.LGBMClassifier(learning_rate=0.05,n_estimators= 400,\n",
        "                          random_state=5,max_depth= 5,max_bin = 100,\n",
        "                           num_leaves = 15,min_child_weight=0.7) 84\"\"\"\n",
        "\n",
        "model = lgb.LGBMClassifier(learning_rate=0.05,n_estimators= 400,\n",
        "                          random_state=42,max_depth= 10,max_bin = 100,\n",
        "                           num_leaves = 25,min_child_weight=0.2,\n",
        "                           feature_fraction = 0.9,) \n",
        "model.fit(X_train_smote, y_train_smote,eval_set=eval_set, verbose= False)\n",
        "lgb.plot_metric(model)\n",
        "y_pred = model.predict(X_test)\n",
        "predictions = [round(value) for value in y_pred]\n",
        "#y_train_predict = model.predict(X_train)\n",
        "y_preds = model.predict_proba(X_test)\n",
        "\n",
        "# take the second column because the classifier outputs scores for\n",
        "# the 0 class as well\n",
        "preds = y_preds[:,1]\n",
        "# evaluate predictions\n",
        "accuracy = accuracy_score(y_test, predictions)\n",
        "#ac = accuracy_score(y_train, y_train_predict)\n",
        "print(\"Test Accuracy: %.2f%%\" % (accuracy * 100.0))\n",
        "#print(\"Train Accuracy: %.2f%%\" % (ac * 100.0))"
      ],
      "execution_count": null,
      "outputs": [
        {
          "output_type": "stream",
          "text": [
            "Test Accuracy: 87.50%\n"
          ],
          "name": "stdout"
        },
        {
          "output_type": "display_data",
          "data": {
            "image/png": "[encoded data removed]",
            "text/plain": [
              "<Figure size 432x288 with 1 Axes>"
            ]
          },
          "metadata": {
            "tags": [],
            "needs_background": "light"
          }
        }
      ]
    },
    {
      "cell_type": "code",
      "metadata": {
        "id": "9wczJ--kbikc",
        "colab": {
          "base_uri": "https://localhost:8080/",
          "height": 313
        },
        "outputId": "716fefe1-162c-46aa-ea83-5717c9b92ba6"
      },
      "source": [
        "from sklearn.metrics import roc_curve,roc_auc_score\n",
        "fpr, tpr, thresholds = roc_curve(y_test, model.predict_proba(X_test)[:,1],drop_intermediate=False)\n",
        "auc = roc_auc_score(y_test,model.predict_proba(X_test)[:,1])\n",
        "print(\"roc_auc_score\",auc)\n",
        "plt.xlim([0.0, 1.0])\n",
        "plt.ylim([0.0, 1.0])\n",
        "plt.title('ROC curve for suicide attempt classifier')\n",
        "plt.xlabel('False Positive Rate (1 - Specificity)')\n",
        "plt.ylabel('True Positive Rate (Sensitivity)')\n",
        "plt.plot(fpr, tpr,color='red',lw=5)\n",
        "plt.show()"
      ],
      "execution_count": null,
      "outputs": [
        {
          "output_type": "stream",
          "text": [
            "roc_auc_score 0.15384615384615385\n"
          ],
          "name": "stdout"
        },
        {
          "output_type": "display_data",
          "data": {
            "image/png": "[encoded data removed]",
            "text/plain": [
              "<Figure size 432x288 with 1 Axes>"
            ]
          },
          "metadata": {
            "tags": [],
            "needs_background": "light"
          }
        }
      ]
    },
    {
      "cell_type": "code",
      "metadata": {
        "id": "igIX0n_bP8tE",
        "colab": {
          "base_uri": "https://localhost:8080/",
          "height": 143
        },
        "outputId": "7380f46f-f795-40a6-a93a-c747f8cf1a04"
      },
      "source": [
        "\"\"\"from sklearn.model_selection import GridSearchCV\n",
        "clf =  lgb.LGBMClassifier()\n",
        "parameters = {\n",
        "    'n_estimators': [100, 200, 300],\n",
        "    'max_depth': [6, 9, 12],\n",
        "    'max_bin': [200, 50,100],\n",
        "    'learning_rate': [0.01, 0.025,0.05],\n",
        "    'min_child_weight': [0.7, 0.8,0.6],\n",
        "    'random_state': [5, 10,30],\n",
        "    'num_leaves': [25, 10,30]\n",
        "}\n",
        "grid = GridSearchCV(clf,\n",
        "                    parameters, n_jobs=4,\n",
        "                    scoring=\"neg_log_loss\",\n",
        "                    cv=3)\n",
        "\n",
        "grid.fit(X_train, y_train)\n",
        "print(\"Best: %f using %s\" % (grid.best_score_, grid.best_params_))\n",
        "\n",
        "means = grid.cv_results_['mean_test_score']\n",
        "stds = grid.cv_results_['std_test_score']\n",
        "params = grid.cv_results_['params']\n",
        "\n",
        "for mean, stdev, param in zip(means, stds, params):\n",
        "    print(\"%f (%f) with: %r\" % (mean, stdev, param))\"\"\""
      ],
      "execution_count": null,
      "outputs": [
        {
          "output_type": "execute_result",
          "data": {
            "application/vnd.google.colaboratory.intrinsic+json": {
              "type": "string"
            },
            "text/plain": [
              "'from sklearn.model_selection import GridSearchCV\\nclf =  lgb.LGBMClassifier()\\nparameters = {\\n    \\'n_estimators\\': [100, 200, 300],\\n    \\'max_depth\\': [6, 9, 12],\\n    \\'max_bin\\': [200, 50,100],\\n    \\'learning_rate\\': [0.01, 0.025,0.05],\\n    \\'min_child_weight\\': [0.7, 0.8,0.6],\\n    \\'random_state\\': [5, 10,30],\\n    \\'num_leaves\\': [25, 10,30]\\n}\\ngrid = GridSearchCV(clf,\\n                    parameters, n_jobs=4,\\n                    scoring=\"neg_log_loss\",\\n                    cv=3)\\n\\ngrid.fit(X_train, y_train)\\nprint(\"Best: %f using %s\" % (grid.best_score_, grid.best_params_))\\n\\nmeans = grid.cv_results_[\\'mean_test_score\\']\\nstds = grid.cv_results_[\\'std_test_score\\']\\nparams = grid.cv_results_[\\'params\\']\\n\\nfor mean, stdev, param in zip(means, stds, params):\\n    print(\"%f (%f) with: %r\" % (mean, stdev, param))'"
            ]
          },
          "metadata": {
            "tags": []
          },
          "execution_count": 42
        }
      ]
    },
    {
      "cell_type": "code",
      "metadata": {
        "id": "WQDOK8AQP9Sw",
        "colab": {
          "base_uri": "https://localhost:8080/",
          "height": 481
        },
        "outputId": "4ed79472-63f3-4176-e26a-755e1dc088dc"
      },
      "source": [
        "import seaborn as sns\n",
        "from sklearn.metrics import confusion_matrix,classification_report\n",
        "cf_matrix = confusion_matrix(y_test, predictions)\n",
        "print(cf_matrix)\n",
        "group_names = [\"True Pos\",\"False Neg\",\"False Pos\",\"True Neg\"]\n",
        "group_counts = ['{0:0.0f}'.format(value) for value in\n",
        "                cf_matrix.flatten()]\n",
        "group_percentages = ['{0:.2%}'.format(value) for value in\n",
        "                     cf_matrix.flatten()/np.sum(cf_matrix)]\n",
        "labels = [f'{v1}\\n{v2}\\n{v3}' for v1, v2, v3 in\n",
        "          zip(group_names,group_counts,group_percentages)]\n",
        "labels = np.asarray(labels).reshape(2,2)\n",
        "import seaborn as sns\n",
        "sns.heatmap(cf_matrix, annot=labels, fmt=\"\", cmap='Blues')\n",
        "#labels = [\"True Neg\",\"False Pos\",\"False Neg\",\"True Pos\"]\n",
        "\n",
        "plt.xlabel(\"Predict\")\n",
        "plt.ylabel(\"Truth\")\n",
        "plt.show()\n",
        "print(classification_report(y_test,predictions))"
      ],
      "execution_count": null,
      "outputs": [
        {
          "output_type": "stream",
          "text": [
            "[[35  4]\n",
            " [ 1  0]]\n"
          ],
          "name": "stdout"
        },
        {
          "output_type": "display_data",
          "data": {
            "image/png": "[encoded data removed]",
            "text/plain": [
              "<Figure size 432x288 with 2 Axes>"
            ]
          },
          "metadata": {
            "tags": [],
            "needs_background": "light"
          }
        },
        {
          "output_type": "stream",
          "text": [
            "              precision    recall  f1-score   support\n",
            "\n",
            "           0       0.97      0.90      0.93        39\n",
            "           1       0.00      0.00      0.00         1\n",
            "\n",
            "    accuracy                           0.88        40\n",
            "   macro avg       0.49      0.45      0.47        40\n",
            "weighted avg       0.95      0.88      0.91        40\n",
            "\n"
          ],
          "name": "stdout"
        }
      ]
    },
    {
      "cell_type": "code",
      "metadata": {
        "id": "OJJxhanEnT2I",
        "colab": {
          "base_uri": "https://localhost:8080/",
          "height": 160
        },
        "outputId": "27245ab3-ce8c-4baf-de7d-7521a4eb2ea0"
      },
      "source": [
        "from sklearn import svm\n",
        "#X_train_smote y_train_smote\n",
        "from sklearn.metrics import plot_confusion_matrix\n",
        "\"\"\"svc = svm.SVC(C=300, kernel=\"rbf\", probability=True,\n",
        "              random_state=100,gamma=0.5, tol=0.6,max_iter= 1000)\"\"\"\n",
        "\n",
        "svc = svm.SVC(C=3, kernel=\"rbf\",\n",
        "              random_state=5,gamma=0.08, tol=0.06,max_iter= 400,probability=True)\n",
        "\n",
        "clf=svc.fit(X_train_smote, y_train_smote)\n",
        "#y_pred_svm = svc.predict(X_test)\n",
        "\n",
        "\n",
        "y_pred_svm  = svc.predict(X_test)\n",
        "\n",
        "predictions = [round(value) for value in y_pred]\n",
        "accuracy = accuracy_score(y_test, y_pred_svm)\n",
        "print(\"Accuracy: %.2f%%\" % (accuracy * 100.0))\n",
        "pd.crosstab(y_test,y_pred_svm)\n",
        "Xg = svc.predict_proba(X_test)[0]\n",
        "thr3=np.where(svc.predict_proba(X_test)[:,1]>0.7,1,0)\n",
        "pd.crosstab(y_test,y_pred_svm)\n"
      ],
      "execution_count": null,
      "outputs": [
        {
          "output_type": "stream",
          "text": [
            "Accuracy: 92.50%\n"
          ],
          "name": "stdout"
        },
        {
          "output_type": "execute_result",
          "data": {
            "text/html": [
              "<div>\n",
              "<style scoped>\n",
              "    .dataframe tbody tr th:only-of-type {\n",
              "        vertical-align: middle;\n",
              "    }\n",
              "\n",
              "    .dataframe tbody tr th {\n",
              "        vertical-align: top;\n",
              "    }\n",
              "\n",
              "    .dataframe thead th {\n",
              "        text-align: right;\n",
              "    }\n",
              "</style>\n",
              "<table border=\"1\" class=\"dataframe\">\n",
              "  <thead>\n",
              "    <tr style=\"text-align: right;\">\n",
              "      <th>col_0</th>\n",
              "      <th>0</th>\n",
              "      <th>1</th>\n",
              "    </tr>\n",
              "    <tr>\n",
              "      <th>attempt_suicide</th>\n",
              "      <th></th>\n",
              "      <th></th>\n",
              "    </tr>\n",
              "  </thead>\n",
              "  <tbody>\n",
              "    <tr>\n",
              "      <th>0</th>\n",
              "      <td>37</td>\n",
              "      <td>2</td>\n",
              "    </tr>\n",
              "    <tr>\n",
              "      <th>1</th>\n",
              "      <td>1</td>\n",
              "      <td>0</td>\n",
              "    </tr>\n",
              "  </tbody>\n",
              "</table>\n",
              "</div>"
            ],
            "text/plain": [
              "col_0             0  1\n",
              "attempt_suicide       \n",
              "0                37  2\n",
              "1                 1  0"
            ]
          },
          "metadata": {
            "tags": []
          },
          "execution_count": 44
        }
      ]
    },
    {
      "cell_type": "code",
      "metadata": {
        "id": "Tt8Y3QGmXyNT",
        "colab": {
          "base_uri": "https://localhost:8080/",
          "height": 313
        },
        "outputId": "7cb47f6b-6f18-44a2-ddd1-1f970a2aa856"
      },
      "source": [
        "from sklearn.metrics import roc_curve,roc_auc_score\n",
        "fprv, tprv, thresholds = roc_curve(y_test, svc.predict_proba(X_test)[:,1],drop_intermediate=False)\n",
        "aucv = roc_auc_score(y_test,svc.predict_proba(X_test)[:,1])\n",
        "print(\"roc_auc_score\",aucv)\n",
        "plt.xlim([0.0, 1.0])\n",
        "plt.ylim([0.0, 1.0])\n",
        "plt.title('ROC curve for Suicidal Attemtp Prediction classifier')\n",
        "plt.xlabel('False Positive Rate (1 - Specificity)')\n",
        "plt.ylabel('True Positive Rate (Sensitivity)')\n",
        "plt.plot(fpr, tpr,color='red',lw=5)\n",
        "plt.show()"
      ],
      "execution_count": null,
      "outputs": [
        {
          "output_type": "stream",
          "text": [
            "roc_auc_score 0.15384615384615385\n"
          ],
          "name": "stdout"
        },
        {
          "output_type": "display_data",
          "data": {
            "image/png": "[encoded data removed]",
            "text/plain": [
              "<Figure size 432x288 with 1 Axes>"
            ]
          },
          "metadata": {
            "tags": [],
            "needs_background": "light"
          }
        }
      ]
    },
    {
      "cell_type": "code",
      "metadata": {
        "id": "G3BEvKu9eI1c",
        "colab": {
          "base_uri": "https://localhost:8080/",
          "height": 477
        },
        "outputId": "af51ecf0-b1f1-41d6-91d5-2d9cb6275182"
      },
      "source": [
        "import seaborn as sns\n",
        "from sklearn.metrics import confusion_matrix,classification_report\n",
        "cf_matrix = confusion_matrix(y_test, y_pred_svm)\n",
        "print(cf_matrix)\n",
        "group_names = [\"True Pos\",\"False Neg\",\"False Pos\",\"True Neg\"]\n",
        "group_counts = ['{0:0.0f}'.format(value) for value in\n",
        "                cf_matrix.flatten()]\n",
        "group_percentages = ['{0:.2%}'.format(value) for value in\n",
        "                     cf_matrix.flatten()/np.sum(cf_matrix)]\n",
        "labels = [f'{v1}\\n{v2}\\n{v3}' for v1, v2, v3 in\n",
        "          zip(group_names,group_counts,group_percentages)]\n",
        "labels = np.asarray(labels).reshape(2,2)\n",
        "import seaborn as sns\n",
        "sns.heatmap(cf_matrix, annot=labels, fmt=\"\", cmap='Blues')\n",
        "#labels = [\"True Neg\",\"False Pos\",\"False Neg\",\"True Pos\"]\n",
        "\n",
        "plt.xlabel(\"Predict\")\n",
        "plt.ylabel(\"Truth\")\n",
        "plt.show()\n",
        "print(classification_report(y_test,y_pred_svm))"
      ],
      "execution_count": null,
      "outputs": [
        {
          "output_type": "stream",
          "text": [
            "[[37  2]\n",
            " [ 1  0]]\n"
          ],
          "name": "stdout"
        },
        {
          "output_type": "display_data",
          "data": {
            "image/png": "[encoded data removed]",
            "text/plain": [
              "<Figure size 432x288 with 2 Axes>"
            ]
          },
          "metadata": {
            "tags": [],
            "needs_background": "light"
          }
        },
        {
          "output_type": "stream",
          "text": [
            "              precision    recall  f1-score   support\n",
            "\n",
            "           0       0.97      0.95      0.96        39\n",
            "           1       0.00      0.00      0.00         1\n",
            "\n",
            "    accuracy                           0.93        40\n",
            "   macro avg       0.49      0.47      0.48        40\n",
            "weighted avg       0.95      0.93      0.94        40\n",
            "\n"
          ],
          "name": "stdout"
        }
      ]
    },
    {
      "cell_type": "code",
      "metadata": {
        "id": "gX7xbgdWnhCO",
        "colab": {
          "base_uri": "https://localhost:8080/"
        },
        "outputId": "5ef04bdb-1251-47f6-8a3d-b2397f2d8109"
      },
      "source": [
        "from sklearn.ensemble import RandomForestClassifier\n",
        "#X_train_smote y_train_smote\n",
        "\"\"\"model = RandomForestClassifier(n_estimators = 100,max_depth=7\n",
        "                               ,random_state=5)\"\"\"\n",
        "\n",
        "\"\"\"model = RandomForestClassifier(n_estimators = 100,max_depth=6\n",
        "                               ,random_state=30)\"\"\"\n",
        "\n",
        "\"\"\"model = RandomForestClassifier(n_estimators = 300,max_depth=7\n",
        "                               ,random_state=10,verbose=0)for imbalance\"\"\"\n",
        "model = RandomForestClassifier(n_estimators = 400,max_depth=20\n",
        "                               ,random_state=5)\n",
        "\n",
        "model.fit(X_train_smote,y_train_smote)\n",
        "pre = model.predict(X_test)\n",
        "from sklearn import metrics\n",
        "predictions = [round(value) for value in pre]\n",
        "accuracy = accuracy_score(y_test, predictions)\n",
        "y_preds = model.predict_proba(X_test)[:,1]\n",
        "\n",
        "# take the second column because the classifier outputs scores for\n",
        "# the 0 class as well\n",
        "#preds = y_preds[:,1]\n",
        "print(\"Accuracy: %.2f%%\" % (accuracy * 100.0))"
      ],
      "execution_count": null,
      "outputs": [
        {
          "output_type": "stream",
          "text": [
            "Accuracy: 95.00%\n"
          ],
          "name": "stdout"
        }
      ]
    },
    {
      "cell_type": "code",
      "metadata": {
        "id": "pjSbVtpi6Jbo",
        "colab": {
          "base_uri": "https://localhost:8080/",
          "height": 125
        },
        "outputId": "862f351f-bb26-42cd-b4d5-70ae6535d650"
      },
      "source": [
        "\"\"\"from sklearn.model_selection import GridSearchCV\n",
        "clf =  RandomForestClassifier()\n",
        "parameters = {\n",
        "    'n_estimators': [100, 200, 400],\n",
        "    'max_depth': [7, 14, 21],\n",
        "    'random_state': [5, 10,25]\n",
        "}\n",
        "grid = GridSearchCV(clf,\n",
        "                    parameters, n_jobs=4,\n",
        "                    scoring=\"neg_log_loss\",\n",
        "                    cv=3)\n",
        "\n",
        "grid.fit(X_train, y_train)\n",
        "print(\"Best: %f using %s\" % (grid.best_score_, grid.best_params_))\n",
        "\n",
        "means = grid.cv_results_['mean_test_score']\n",
        "stds = grid.cv_results_['std_test_score']\n",
        "params = grid.cv_results_['params']\n",
        "\n",
        "for mean, stdev, param in zip(means, stds, params):\n",
        "    print(\"%f (%f) with: %r\" % (mean, stdev, param))\"\"\""
      ],
      "execution_count": null,
      "outputs": [
        {
          "output_type": "execute_result",
          "data": {
            "application/vnd.google.colaboratory.intrinsic+json": {
              "type": "string"
            },
            "text/plain": [
              "'from sklearn.model_selection import GridSearchCV\\nclf =  RandomForestClassifier()\\nparameters = {\\n    \\'n_estimators\\': [100, 200, 400],\\n    \\'max_depth\\': [7, 14, 21],\\n    \\'random_state\\': [5, 10,25]\\n}\\ngrid = GridSearchCV(clf,\\n                    parameters, n_jobs=4,\\n                    scoring=\"neg_log_loss\",\\n                    cv=3)\\n\\ngrid.fit(X_train, y_train)\\nprint(\"Best: %f using %s\" % (grid.best_score_, grid.best_params_))\\n\\nmeans = grid.cv_results_[\\'mean_test_score\\']\\nstds = grid.cv_results_[\\'std_test_score\\']\\nparams = grid.cv_results_[\\'params\\']\\n\\nfor mean, stdev, param in zip(means, stds, params):\\n    print(\"%f (%f) with: %r\" % (mean, stdev, param))'"
            ]
          },
          "metadata": {
            "tags": []
          },
          "execution_count": 48
        }
      ]
    },
    {
      "cell_type": "code",
      "metadata": {
        "id": "Gi6CypbggKK-",
        "colab": {
          "base_uri": "https://localhost:8080/",
          "height": 477
        },
        "outputId": "b2e14498-47aa-4d23-a60d-d13ac3ceb245"
      },
      "source": [
        "import seaborn as sns\n",
        "from sklearn.metrics import confusion_matrix,classification_report\n",
        "cf_matrix = confusion_matrix(y_test, pre)\n",
        "print(cf_matrix)\n",
        "group_names = [\"True Pos\",\"False Neg\",\"False Pos\",\"True Neg\"]\n",
        "group_counts = ['{0:0.0f}'.format(value) for value in\n",
        "                cf_matrix.flatten()]\n",
        "group_percentages = ['{0:.2%}'.format(value) for value in\n",
        "                     cf_matrix.flatten()/np.sum(cf_matrix)]\n",
        "labels = [f'{v1}\\n{v2}\\n{v3}' for v1, v2, v3 in\n",
        "          zip(group_names,group_counts,group_percentages)]\n",
        "labels = np.asarray(labels).reshape(2,2)\n",
        "import seaborn as sns\n",
        "sns.heatmap(cf_matrix, annot=labels, fmt=\"\", cmap='Blues')\n",
        "#labels = [\"True Neg\",\"False Pos\",\"False Neg\",\"True Pos\"]\n",
        "\n",
        "plt.xlabel(\"Predict\")\n",
        "plt.ylabel(\"Truth\")\n",
        "plt.show()\n",
        "print(classification_report(y_test,pre))"
      ],
      "execution_count": null,
      "outputs": [
        {
          "output_type": "stream",
          "text": [
            "[[38  1]\n",
            " [ 1  0]]\n"
          ],
          "name": "stdout"
        },
        {
          "output_type": "display_data",
          "data": {
            "image/png": "[encoded data removed]",
            "text/plain": [
              "<Figure size 432x288 with 2 Axes>"
            ]
          },
          "metadata": {
            "tags": [],
            "needs_background": "light"
          }
        },
        {
          "output_type": "stream",
          "text": [
            "              precision    recall  f1-score   support\n",
            "\n",
            "           0       0.97      0.97      0.97        39\n",
            "           1       0.00      0.00      0.00         1\n",
            "\n",
            "    accuracy                           0.95        40\n",
            "   macro avg       0.49      0.49      0.49        40\n",
            "weighted avg       0.95      0.95      0.95        40\n",
            "\n"
          ],
          "name": "stdout"
        }
      ]
    },
    {
      "cell_type": "code",
      "metadata": {
        "id": "yl0Jgq9va2pZ",
        "colab": {
          "base_uri": "https://localhost:8080/",
          "height": 313
        },
        "outputId": "0d9e0f5c-d04d-46c2-bebb-fd346cf82492"
      },
      "source": [
        "from sklearn.metrics import roc_curve,roc_auc_score\n",
        "fpr, tpr, thresholds = roc_curve(y_test, model.predict_proba(X_test)[:,1],drop_intermediate=False)\n",
        "auc = roc_auc_score(y_test,model.predict_proba(X_test)[:,1])\n",
        "print(\"roc_auc_score\",auc)\n",
        "plt.xlim([0.0, 1.0])\n",
        "plt.ylim([0.0, 1.0])\n",
        "plt.title('ROC curve for Suicidal Attemtp Prediction classifier')\n",
        "plt.xlabel('False Positive Rate (1 - Specificity)')\n",
        "plt.ylabel('True Positive Rate (Sensitivity)')\n",
        "plt.plot(fpr, tpr,color='red',lw=5)\n",
        "plt.show()"
      ],
      "execution_count": null,
      "outputs": [
        {
          "output_type": "stream",
          "text": [
            "roc_auc_score 0.28205128205128205\n"
          ],
          "name": "stdout"
        },
        {
          "output_type": "display_data",
          "data": {
            "image/png": "[encoded data removed]",
            "text/plain": [
              "<Figure size 432x288 with 1 Axes>"
            ]
          },
          "metadata": {
            "tags": [],
            "needs_background": "light"
          }
        }
      ]
    },
    {
      "cell_type": "code",
      "metadata": {
        "id": "Wf6WmE4lb1el"
      },
      "source": [
        "from sklearn.metrics import roc_curve, roc_auc_score\n",
        "%matplotlib inline\n",
        "import matplotlib.pyplot as plt\n",
        "import seaborn as sns\n",
        "sns.set()\n",
        "\n",
        "import warnings\n",
        "warnings.filterwarnings('ignore')"
      ],
      "execution_count": null,
      "outputs": []
    },
    {
      "cell_type": "code",
      "metadata": {
        "id": "3RzP1PBY7oAy",
        "colab": {
          "base_uri": "https://localhost:8080/",
          "height": 612
        },
        "outputId": "0efeb823-8adb-42c8-c0b8-caf7b3aca587"
      },
      "source": [
        "# Instantiate the classfiers and make a list\n",
        "\"\"\"xgbmodel =  XGBClassifier(max_depth=12,subsample=0.7,n_estimators=250,\n",
        "                      learning_rate=0.01,min_child_weight=0.6,\n",
        "                      random_state = 10,scale_pos_weight=0.4, \n",
        "                      colsample_bytree = 0.5)\"\"\"\n",
        "from sklearn import svm\n",
        "rfmodel = RandomForestClassifier(n_estimators = 400,max_depth=20\n",
        "                               ,random_state=5)\n",
        "\n",
        "lgbmodel =  lgb.LGBMClassifier(learning_rate=0.05,n_estimators= 400,\n",
        "                          random_state=42,max_depth= 10,max_bin = 100,\n",
        "                           num_leaves = 25,min_child_weight=0.2,\n",
        "                           feature_fraction = 0.9,) \n",
        "\n",
        "classifiers = [rfmodel,lgbmodel]\n",
        "\"\"\"classifiers = [xgb.XGBClassifier(), \n",
        "               RandomForestClassifier(n_estimators = 20), \n",
        "               svm.SVC(), \n",
        "               lgb.LGBMClassifier()]\"\"\"\n",
        "\n",
        "# Define a result table as a DataFrame\n",
        "result_table = pd.DataFrame(columns=['classifiers', 'fpr','tpr','auc'])\n",
        "\n",
        "for cls in classifiers:\n",
        "    #print(\"fdsfdf\")\n",
        "    model = cls.fit(X_train_smote, y_train_smote)\n",
        "    yproba = model.predict_proba(X_test)[::,1]\n",
        "    \n",
        "    #fpr, tpr, _ = roc_curve(y_test,  yproba)\n",
        "    fpr, tpr, _ = roc_curve(y_test,  yproba)\n",
        "    auc = roc_auc_score(y_test, yproba)\n",
        "    \n",
        "    result_table = result_table.append({'classifiers':cls.__class__.__name__,\n",
        "                                        'fpr':fpr, \n",
        "                                        'tpr':tpr, \n",
        "                                        'auc':auc}, ignore_index=True)\n",
        "\n",
        "\n",
        "# Set name of the classifiers as index labels\n",
        "svm = svm.SVC(C=10, kernel=\"rbf\",\n",
        "              random_state=42,gamma=0.1, tol=0.01,max_iter= 100000,probability=True)\n",
        "print(aucv)\n",
        "result_table = result_table.append({'classifiers':svm.__class__.__name__,\n",
        "                                        'fpr':fprv, \n",
        "                                        'tpr':tprv, \n",
        "                                        'auc':aucv}, ignore_index=True)\n",
        "\n",
        "#xgb\n",
        "xgbmodel =  XGBClassifier(max_depth=12,subsample=0.7,n_estimators=250,\n",
        "                      learning_rate=0.01,min_child_weight=0.6,\n",
        "                      random_state = 10,scale_pos_weight=0.4, \n",
        "                      colsample_bytree = 0.5)\n",
        "aucxgb = roc_auc_score(y_test, xgbyproba)\n",
        "result_table = result_table.append({'classifiers':xgbmodel.__class__.__name__,\n",
        "                                        'fpr':xgbt_fpr, \n",
        "                                        'tpr':xgbt_tpr, \n",
        "                                        'auc':aucxgb}, ignore_index=True)\n",
        "result_table.set_index('classifiers', inplace=True)\n",
        "\n",
        "#print(result_table.count)\n",
        "fig = plt.figure(figsize=(10,8))\n",
        "\n",
        "for i in result_table.index:\n",
        "    print(\"xxxx\")\n",
        "    plt.plot(result_table.loc[i]['fpr'], \n",
        "             result_table.loc[i]['tpr'], \n",
        "             label=\"{}, AUC={:.1f}\".format(i, result_table.loc[i]['auc']*100))\n",
        "    \n",
        "plt.plot([0,1], [0,1], color='orange', linestyle='--')\n",
        "\n",
        "plt.xticks(np.arange(0.0, 1.1, step=0.1))\n",
        "plt.xlabel(\"Flase Positive Rate\", fontsize=15)\n",
        "\n",
        "plt.yticks(np.arange(0.0, 1.1, step=0.1))\n",
        "plt.ylabel(\"True Positive Rate\", fontsize=15)\n",
        "\n",
        "plt.title('ROC Curve Analysis', fontweight='bold', fontsize=15)\n",
        "plt.legend(prop={'size':13}, loc='lower right')\n",
        "\n",
        "plt.show()\n"
      ],
      "execution_count": null,
      "outputs": [
        {
          "output_type": "stream",
          "text": [
            "0.15384615384615385\n",
            "xxxx\n",
            "xxxx\n",
            "xxxx\n",
            "xxxx\n"
          ],
          "name": "stdout"
        },
        {
          "output_type": "display_data",
          "data": {
            "image/png": "[encoded data removed]",
            "text/plain": [
              "<Figure size 720x576 with 1 Axes>"
            ]
          },
          "metadata": {
            "tags": []
          }
        }
      ]
    },
    {
      "cell_type": "code",
      "metadata": {
        "id": "p8O0PHFSEjGl"
      },
      "source": [
        ""
      ],
      "execution_count": null,
      "outputs": []
    }
  ]
}