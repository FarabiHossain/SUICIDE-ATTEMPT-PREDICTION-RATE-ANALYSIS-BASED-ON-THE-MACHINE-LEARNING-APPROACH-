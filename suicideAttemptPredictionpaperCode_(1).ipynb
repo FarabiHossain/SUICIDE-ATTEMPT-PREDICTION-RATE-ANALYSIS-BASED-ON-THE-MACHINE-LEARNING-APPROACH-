{
  "nbformat": 4,
  "nbformat_minor": 0,
  "metadata": {
    "colab": {
      "name": "suicideAttemptPredictionpaperCode (1).ipynb",
      "provenance": [],
      "collapsed_sections": [],
      "include_colab_link": true
    },
    "kernelspec": {
      "display_name": "Python 3",
      "name": "python3"
    }
  },
  "cells": [
    {
      "cell_type": "markdown",
      "metadata": {
        "id": "view-in-github",
        "colab_type": "text"
      },
      "source": [
        "<a href=\"https://colab.research.google.com/github/FarabiHossain/SUICIDE-ATTEMPT-PREDICTION-RATE-ANALYSIS-BASED-ON-THE-MACHINE-LEARNING-APPROACH-/blob/main/suicideAttemptPredictionpaperCode_(1).ipynb\" target=\"_parent\"><img src=\"https://colab.research.google.com/assets/colab-badge.svg\" alt=\"Open In Colab\"/></a>"
      ]
    },
    {
      "cell_type": "code",
      "metadata": {
        "id": "469FR9ToLaat"
      },
      "source": [
        "import dill\n",
        "dill.dump_session('notebook_env.db')\n",
        "#dill.load_session('notebook_env.db')"
      ],
      "execution_count": null,
      "outputs": []
    },
    {
      "cell_type": "markdown",
      "metadata": {
        "id": "64PVDkaJPOtp"
      },
      "source": [
        ""
      ]
    },
    {
      "cell_type": "code",
      "metadata": {
        "id": "XTviP5wVPPAA"
      },
      "source": [
        ""
      ],
      "execution_count": null,
      "outputs": []
    },
    {
      "cell_type": "code",
      "metadata": {
        "id": "PXLuf6bcQpvw"
      },
      "source": [
        ""
      ],
      "execution_count": null,
      "outputs": []
    },
    {
      "cell_type": "code",
      "metadata": {
        "id": "qpTwGVLckPq2"
      },
      "source": [
        ""
      ],
      "execution_count": null,
      "outputs": []
    },
    {
      "cell_type": "code",
      "metadata": {
        "id": "ysB6ZUmJm3NW"
      },
      "source": [
        ""
      ],
      "execution_count": null,
      "outputs": []
    },
    {
      "cell_type": "code",
      "metadata": {
        "id": "T_OKEtFGPo2F"
      },
      "source": [
        "import pandas as pd\n",
        "import numpy as np\n",
        "import matplotlib.pyplot as plt\n",
        "%matplotlib inline"
      ],
      "execution_count": null,
      "outputs": []
    },
    {
      "cell_type": "code",
      "metadata": {
        "id": "3PHLNeYDP1Ul"
      },
      "source": [
        "d_parser = lambda x: pd.datetime.strptime(x, '%m/%d/%Y %H:%M:%S')\n",
        "dataset = pd.read_csv('foreveralone.csv', parse_dates=['time'], date_parser=d_parser)"
      ],
      "execution_count": null,
      "outputs": []
    },
    {
      "cell_type": "code",
      "metadata": {
        "colab": {
          "base_uri": "https://localhost:8080/"
        },
        "id": "P9fo9fDWP3b8",
        "outputId": "a321089f-1ecf-448b-8a9a-8d63877d183b"
      },
      "source": [
        "dataset.attempt_suicide.value_counts()"
      ],
      "execution_count": null,
      "outputs": [
        {
          "output_type": "execute_result",
          "data": {
            "text/plain": [
              "No     384\n",
              "Yes     85\n",
              "Name: attempt_suicide, dtype: int64"
            ]
          },
          "metadata": {
            "tags": []
          },
          "execution_count": 514
        }
      ]
    },
    {
      "cell_type": "code",
      "metadata": {
        "id": "mrnZqtrGP779"
      },
      "source": [
        "#dataset.describe(include='all')"
      ],
      "execution_count": null,
      "outputs": []
    },
    {
      "cell_type": "code",
      "metadata": {
        "colab": {
          "base_uri": "https://localhost:8080/",
          "height": 285
        },
        "id": "pTY2LHKjQWsY",
        "outputId": "83f7a75f-4ff0-4381-ca3d-f175859771bf"
      },
      "source": [
        "fig, ax = plt.subplots()\n",
        "# ax.set_ylim(0, 105)\n",
        "# whiskers on 0.3 and 99.7 percentile to determine outliers\n",
        "dataset.boxplot(column='friends', ax=ax, whis=[0.3,99.7])"
      ],
      "execution_count": null,
      "outputs": [
        {
          "output_type": "execute_result",
          "data": {
            "text/plain": [
              "<matplotlib.axes._subplots.AxesSubplot at 0x7f09f1679438>"
            ]
          },
          "metadata": {
            "tags": []
          },
          "execution_count": 516
        },
        {
          "output_type": "display_data",
          "data": {
            "image/png": "[encoded data removed]",
            "text/plain": [
              "<Figure size 432x288 with 1 Axes>"
            ]
          },
          "metadata": {
            "tags": [],
            "needs_background": "light"
          }
        }
      ]
    },
    {
      "cell_type": "code",
      "metadata": {
        "colab": {
          "base_uri": "https://localhost:8080/",
          "height": 336
        },
        "id": "M-NIlJXBQdJq",
        "outputId": "b5b4b5a5-2205-4c8f-8ad5-34fb013cad3b"
      },
      "source": [
        "dataset.loc[dataset['friends'] <= 50,:] \\\n",
        "        .groupby('attempt_suicide')['friends'] \\\n",
        "        .plot.hist(legend=True, density=True, alpha = 0.5)"
      ],
      "execution_count": null,
      "outputs": [
        {
          "output_type": "execute_result",
          "data": {
            "text/plain": [
              "attempt_suicide\n",
              "No     AxesSubplot(0.125,0.125;0.775x0.755)\n",
              "Yes    AxesSubplot(0.125,0.125;0.775x0.755)\n",
              "Name: friends, dtype: object"
            ]
          },
          "metadata": {
            "tags": []
          },
          "execution_count": 517
        },
        {
          "output_type": "display_data",
          "data": {
            "image/png": "[encoded data removed]",
            "text/plain": [
              "<Figure size 432x288 with 1 Axes>"
            ]
          },
          "metadata": {
            "tags": [],
            "needs_background": "light"
          }
        }
      ]
    },
    {
      "cell_type": "code",
      "metadata": {
        "colab": {
          "base_uri": "https://localhost:8080/",
          "height": 336
        },
        "id": "Aes8c3kSQqOS",
        "outputId": "60e965d6-1d5c-462d-9f0e-6cafc5627898"
      },
      "source": [
        "dataset = dataset[dataset['friends'] < dataset['friends'].quantile(0.997)]\n",
        "dataset.groupby('social_fear')['friends'].plot.hist(legend=True, alpha = 0.5)"
      ],
      "execution_count": null,
      "outputs": [
        {
          "output_type": "execute_result",
          "data": {
            "text/plain": [
              "social_fear\n",
              "No     AxesSubplot(0.125,0.125;0.775x0.755)\n",
              "Yes    AxesSubplot(0.125,0.125;0.775x0.755)\n",
              "Name: friends, dtype: object"
            ]
          },
          "metadata": {
            "tags": []
          },
          "execution_count": 518
        },
        {
          "output_type": "display_data",
          "data": {
            "image/png": "[encoded data removed]",
            "text/plain": [
              "<Figure size 432x288 with 1 Axes>"
            ]
          },
          "metadata": {
            "tags": [],
            "needs_background": "light"
          }
        }
      ]
    },
    {
      "cell_type": "code",
      "metadata": {
        "colab": {
          "base_uri": "https://localhost:8080/"
        },
        "id": "YVdU4-EZQ9ql",
        "outputId": "76f4d103-5f42-44e8-da40-87051feead43"
      },
      "source": [
        "dataset.groupby('social_fear')['friends'].max()"
      ],
      "execution_count": null,
      "outputs": [
        {
          "output_type": "execute_result",
          "data": {
            "text/plain": [
              "social_fear\n",
              "No     100.0\n",
              "Yes     40.0\n",
              "Name: friends, dtype: float64"
            ]
          },
          "metadata": {
            "tags": []
          },
          "execution_count": 519
        }
      ]
    },
    {
      "cell_type": "code",
      "metadata": {
        "colab": {
          "base_uri": "https://localhost:8080/"
        },
        "id": "OG2x9olGRFF8",
        "outputId": "7fe2c3e6-93ee-46c7-ad08-a90496ee3fd0"
      },
      "source": [
        "dataset['improve_yourself_how'].head(15)"
      ],
      "execution_count": null,
      "outputs": [
        {
          "output_type": "execute_result",
          "data": {
            "text/plain": [
              "0                                                  None\n",
              "1                      join clubs/socual clubs/meet ups\n",
              "2                                        Other exercise\n",
              "3                            Joined a gym/go to the gym\n",
              "4                                                  None\n",
              "5     Joined a gym/go to the gym, join clubs/socual ...\n",
              "6                                                  None\n",
              "7     Therapy, join clubs/socual clubs/meet ups, Non...\n",
              "8                   Joined a gym/go to the gym, Therapy\n",
              "9                                               Therapy\n",
              "10     Other exercise, join clubs/socual clubs/meet ups\n",
              "11           Joined a gym/go to the gym, Other exercise\n",
              "12    Joined a gym/go to the gym, Therapy, join club...\n",
              "13                                                 None\n",
              "14    Cosmetic survey, Joined a gym/go to the gym, T...\n",
              "Name: improve_yourself_how, dtype: object"
            ]
          },
          "metadata": {
            "tags": []
          },
          "execution_count": 520
        }
      ]
    },
    {
      "cell_type": "code",
      "metadata": {
        "colab": {
          "base_uri": "https://localhost:8080/",
          "height": 336
        },
        "id": "ItoWXupqRHEz",
        "outputId": "27094504-a2eb-47da-c178-c1f3ab0a1e09"
      },
      "source": [
        "dataset['improve_yourself_how'] = dataset['improve_yourself_how'].str.lower()\n",
        "# none isn't an improvment, so we don't need to count it\n",
        "dataset['total_improves'] = dataset['improve_yourself_how'].str.split(',').apply(lambda x: len([i for i in x if i != 'none']))\n",
        "dataset.groupby('attempt_suicide')['total_improves'].plot.hist(legend=True, density=True, alpha = 0.5)"
      ],
      "execution_count": null,
      "outputs": [
        {
          "output_type": "execute_result",
          "data": {
            "text/plain": [
              "attempt_suicide\n",
              "No     AxesSubplot(0.125,0.125;0.775x0.755)\n",
              "Yes    AxesSubplot(0.125,0.125;0.775x0.755)\n",
              "Name: total_improves, dtype: object"
            ]
          },
          "metadata": {
            "tags": []
          },
          "execution_count": 521
        },
        {
          "output_type": "display_data",
          "data": {
            "image/png": "[encoded data removed]",
            "text/plain": [
              "<Figure size 432x288 with 1 Axes>"
            ]
          },
          "metadata": {
            "tags": [],
            "needs_background": "light"
          }
        }
      ]
    },
    {
      "cell_type": "code",
      "metadata": {
        "colab": {
          "base_uri": "https://localhost:8080/"
        },
        "id": "kCSJA1jcRh6H",
        "outputId": "1b7c33b2-065a-47b4-883c-d2559f49d3db"
      },
      "source": [
        "improvements = dataset['improve_yourself_how'].str.split(',').apply(pd.Series).stack().reset_index(drop=True)\n",
        "improvements = improvements.str.strip()\n",
        "top_improvements = improvements.value_counts()\n",
        "top_improvements"
      ],
      "execution_count": null,
      "outputs": [
        {
          "output_type": "execute_result",
          "data": {
            "text/plain": [
              "other exercise                                                                                                                               195\n",
              "joined a gym/go to the gym                                                                                                                   190\n",
              "join clubs/socual clubs/meet ups                                                                                                             142\n",
              "therapy                                                                                                                                      130\n",
              "none                                                                                                                                         113\n",
              "cosmetic survey                                                                                                                               17\n",
              "medication                                                                                                                                     2\n",
              "cosmetic surgery                                                                                                                               1\n",
              "change of wardrobe                                                                                                                             1\n",
              "hair                                                                                                                                           1\n",
              "makeup                                                                                                                                         1\n",
              "started losing weight                                                                                                                          1\n",
              "living in a student house (at dorms)                                                                                                           1\n",
              "lose weight                                                                                                                                    1\n",
              "non-physical forms of improvement                                                                                                              1\n",
              "such as writing and piano.                                                                                                                     1\n",
              "keeps you in touch with a lot of different people                                                                                              1\n",
              "play live in a band.                                                                                                                           1\n",
              "self analysis                                                                                                                                  1\n",
              "just b confident                                                                                                                               1\n",
              "practice various skills                                                                                                                        1\n",
              "social activism                                                                                                                                1\n",
              "nope not fa                                                                                                                                    1\n",
              "forced myself to free events or events w/acquintances advertised in fb; been part of a blog for five years and met some members in person      1\n",
              "etc                                                                                                                                            1\n",
              "losing weight through better diet. no exercise yet.                                                                                            1\n",
              "eat more                                                                                                                                       1\n",
              "develop hobbies                                                                                                                                1\n",
              "work out at home                                                                                                                               1\n",
              "clothing                                                                                                                                       1\n",
              "diets                                                                                                                                          1\n",
              "talking to people                                                                                                                              1\n",
              "learn new skills                                                                                                                               1\n",
              "dealer                                                                                                                                         1\n",
              "diet pills                                                                                                                                     1\n",
              "eat healthy                                                                                                                                    1\n",
              "volunteering                                                                                                                                   1\n",
              "calligraphy                                                                                                                                    1\n",
              "partying                                                                                                                                       1\n",
              "languages                                                                                                                                      1\n",
              "joined a german language learning course.                                                                                                      1\n",
              "go to bars                                                                                                                                     1\n",
              "change my lifestyle                                                                                                                            1\n",
              "hobbies - music                                                                                                                                1\n",
              "traveling                                                                                                                                      1\n",
              "fashion makeup personality etc                                                                                                                 1\n",
              "changed my hairstyle and lost weight                                                                                                           1\n",
              "clubbing                                                                                                                                       1\n",
              "trying to accept my fate.                                                                                                                      1\n",
              "started taking some medication                                                                                                                 1\n",
              "joined the us navy                                                                                                                             1\n",
              "losing weight                                                                                                                                  1\n",
              "called suicide hotlines                                                                                                                        1\n",
              "dtype: int64"
            ]
          },
          "metadata": {
            "tags": []
          },
          "execution_count": 522
        }
      ]
    },
    {
      "cell_type": "code",
      "metadata": {
        "id": "SSuzp0SGRohe"
      },
      "source": [
        "top_improvements = top_improvements[top_improvements > 5]"
      ],
      "execution_count": null,
      "outputs": []
    },
    {
      "cell_type": "code",
      "metadata": {
        "id": "KuGKoDCxR7jQ"
      },
      "source": [
        "for imp in top_improvements.index:\n",
        "    dataset['[improve] {}'.format(imp)] = dataset['improve_yourself_how'].str.contains(imp, regex=False)"
      ],
      "execution_count": null,
      "outputs": []
    },
    {
      "cell_type": "code",
      "metadata": {
        "colab": {
          "base_uri": "https://localhost:8080/",
          "height": 176
        },
        "id": "mg98WtMZR87K",
        "outputId": "56af9119-244f-4bfe-a7b8-be1fb4c8faeb"
      },
      "source": [
        "col = {x:'sum' for x in dataset.columns if '[improve]' in x}\n",
        "dataset.groupby('attempt_suicide').agg(col).apply(lambda x: x/x.sum(), axis=1)"
      ],
      "execution_count": null,
      "outputs": [
        {
          "output_type": "execute_result",
          "data": {
            "text/html": [
              "<div>\n",
              "<style scoped>\n",
              "    .dataframe tbody tr th:only-of-type {\n",
              "        vertical-align: middle;\n",
              "    }\n",
              "\n",
              "    .dataframe tbody tr th {\n",
              "        vertical-align: top;\n",
              "    }\n",
              "\n",
              "    .dataframe thead th {\n",
              "        text-align: right;\n",
              "    }\n",
              "</style>\n",
              "<table border=\"1\" class=\"dataframe\">\n",
              "  <thead>\n",
              "    <tr style=\"text-align: right;\">\n",
              "      <th></th>\n",
              "      <th>[improve] other exercise</th>\n",
              "      <th>[improve] joined a gym/go to the gym</th>\n",
              "      <th>[improve] join clubs/socual clubs/meet ups</th>\n",
              "      <th>[improve] therapy</th>\n",
              "      <th>[improve] none</th>\n",
              "      <th>[improve] cosmetic survey</th>\n",
              "    </tr>\n",
              "    <tr>\n",
              "      <th>attempt_suicide</th>\n",
              "      <th></th>\n",
              "      <th></th>\n",
              "      <th></th>\n",
              "      <th></th>\n",
              "      <th></th>\n",
              "      <th></th>\n",
              "    </tr>\n",
              "  </thead>\n",
              "  <tbody>\n",
              "    <tr>\n",
              "      <th>No</th>\n",
              "      <td>0.246753</td>\n",
              "      <td>0.250000</td>\n",
              "      <td>0.181818</td>\n",
              "      <td>0.141234</td>\n",
              "      <td>0.159091</td>\n",
              "      <td>0.021104</td>\n",
              "    </tr>\n",
              "    <tr>\n",
              "      <th>Yes</th>\n",
              "      <td>0.251462</td>\n",
              "      <td>0.210526</td>\n",
              "      <td>0.175439</td>\n",
              "      <td>0.251462</td>\n",
              "      <td>0.087719</td>\n",
              "      <td>0.023392</td>\n",
              "    </tr>\n",
              "  </tbody>\n",
              "</table>\n",
              "</div>"
            ],
            "text/plain": [
              "                 [improve] other exercise  ...  [improve] cosmetic survey\n",
              "attempt_suicide                            ...                           \n",
              "No                               0.246753  ...                   0.021104\n",
              "Yes                              0.251462  ...                   0.023392\n",
              "\n",
              "[2 rows x 6 columns]"
            ]
          },
          "metadata": {
            "tags": []
          },
          "execution_count": 525
        }
      ]
    },
    {
      "cell_type": "code",
      "metadata": {
        "colab": {
          "base_uri": "https://localhost:8080/",
          "height": 336
        },
        "id": "A3zywdPKSNJ8",
        "outputId": "50d1b3e9-675d-4ba7-8b98-700301312899"
      },
      "source": [
        "dataset['what_help_from_others'] = dataset['what_help_from_others'].str.lower()\n",
        "dataset['total_help'] = dataset['what_help_from_others'].str.split(',').apply(lambda x: len([i for i in x if i != \"i don't want help\"]))\n",
        "dataset.groupby('attempt_suicide')['total_help'].plot.hist(legend=True, density=True, alpha = 0.5)"
      ],
      "execution_count": null,
      "outputs": [
        {
          "output_type": "execute_result",
          "data": {
            "text/plain": [
              "attempt_suicide\n",
              "No     AxesSubplot(0.125,0.125;0.775x0.755)\n",
              "Yes    AxesSubplot(0.125,0.125;0.775x0.755)\n",
              "Name: total_help, dtype: object"
            ]
          },
          "metadata": {
            "tags": []
          },
          "execution_count": 526
        },
        {
          "output_type": "display_data",
          "data": {
            "image/png": "[encoded data removed]",
            "text/plain": [
              "<Figure size 432x288 with 1 Axes>"
            ]
          },
          "metadata": {
            "tags": [],
            "needs_background": "light"
          }
        }
      ]
    },
    {
      "cell_type": "code",
      "metadata": {
        "id": "Nww5pNO5SS9R"
      },
      "source": [
        "help_from_others = dataset['what_help_from_others'].str.split(',').apply(pd.Series).stack().reset_index(drop=True)\n",
        "help_from_others = help_from_others.str.strip()"
      ],
      "execution_count": null,
      "outputs": []
    },
    {
      "cell_type": "code",
      "metadata": {
        "colab": {
          "base_uri": "https://localhost:8080/",
          "height": 962
        },
        "id": "y5JaGyo-SXLN",
        "outputId": "863eb066-b051-437a-f4cf-c94af48a510e"
      },
      "source": [
        "top_help_from_others = help_from_others.value_counts()\n",
        "top_help_from_others.plot(kind='bar')"
      ],
      "execution_count": null,
      "outputs": [
        {
          "output_type": "execute_result",
          "data": {
            "text/plain": [
              "<matplotlib.axes._subplots.AxesSubplot at 0x7f09f0529278>"
            ]
          },
          "metadata": {
            "tags": []
          },
          "execution_count": 528
        },
        {
          "output_type": "display_data",
          "data": {
            "image/png": "[encoded data removed]",
            "text/plain": [
              "<Figure size 432x288 with 1 Axes>"
            ]
          },
          "metadata": {
            "tags": [],
            "needs_background": "light"
          }
        }
      ]
    },
    {
      "cell_type": "code",
      "metadata": {
        "colab": {
          "base_uri": "https://localhost:8080/",
          "height": 396
        },
        "id": "tz9U5yjASgno",
        "outputId": "6e5d4693-6cf5-400a-c9a9-6b7e58ab7070"
      },
      "source": [
        "top_help_from_others = top_help_from_others[top_help_from_others > 5]\n",
        "top_help_from_others.plot(kind='bar')"
      ],
      "execution_count": null,
      "outputs": [
        {
          "output_type": "execute_result",
          "data": {
            "text/plain": [
              "<matplotlib.axes._subplots.AxesSubplot at 0x7f09ef554940>"
            ]
          },
          "metadata": {
            "tags": []
          },
          "execution_count": 529
        },
        {
          "output_type": "display_data",
          "data": {
            "image/png": "[encoded data removed]",
            "text/plain": [
              "<Figure size 432x288 with 1 Axes>"
            ]
          },
          "metadata": {
            "tags": [],
            "needs_background": "light"
          }
        }
      ]
    },
    {
      "cell_type": "code",
      "metadata": {
        "id": "u5z_-bFiSjr8"
      },
      "source": [
        "for hlp in top_help_from_others.index:\n",
        "    dataset['[help] {}'.format(hlp)] = dataset['what_help_from_others'].str.contains(hlp, regex=False)"
      ],
      "execution_count": null,
      "outputs": []
    },
    {
      "cell_type": "code",
      "metadata": {
        "colab": {
          "base_uri": "https://localhost:8080/",
          "height": 159
        },
        "id": "BKkYWzJbSsbU",
        "outputId": "4c0b0ba9-88c1-4d63-b514-7786548bb91a"
      },
      "source": [
        "col = {x:'sum' for x in dataset.columns if '[help]' in x}\n",
        "dataset.groupby('attempt_suicide').agg(col).apply(lambda x: x/x.sum(), axis=1)"
      ],
      "execution_count": null,
      "outputs": [
        {
          "output_type": "execute_result",
          "data": {
            "text/html": [
              "<div>\n",
              "<style scoped>\n",
              "    .dataframe tbody tr th:only-of-type {\n",
              "        vertical-align: middle;\n",
              "    }\n",
              "\n",
              "    .dataframe tbody tr th {\n",
              "        vertical-align: top;\n",
              "    }\n",
              "\n",
              "    .dataframe thead th {\n",
              "        text-align: right;\n",
              "    }\n",
              "</style>\n",
              "<table border=\"1\" class=\"dataframe\">\n",
              "  <thead>\n",
              "    <tr style=\"text-align: right;\">\n",
              "      <th></th>\n",
              "      <th>[help] i don't want help</th>\n",
              "      <th>[help] set me up with a date</th>\n",
              "      <th>[help] wingman/wingwoman</th>\n",
              "      <th>[help] date coaching</th>\n",
              "    </tr>\n",
              "    <tr>\n",
              "      <th>attempt_suicide</th>\n",
              "      <th></th>\n",
              "      <th></th>\n",
              "      <th></th>\n",
              "      <th></th>\n",
              "    </tr>\n",
              "  </thead>\n",
              "  <tbody>\n",
              "    <tr>\n",
              "      <th>No</th>\n",
              "      <td>0.363636</td>\n",
              "      <td>0.270793</td>\n",
              "      <td>0.206963</td>\n",
              "      <td>0.158607</td>\n",
              "    </tr>\n",
              "    <tr>\n",
              "      <th>Yes</th>\n",
              "      <td>0.392523</td>\n",
              "      <td>0.224299</td>\n",
              "      <td>0.196262</td>\n",
              "      <td>0.186916</td>\n",
              "    </tr>\n",
              "  </tbody>\n",
              "</table>\n",
              "</div>"
            ],
            "text/plain": [
              "                 [help] i don't want help  ...  [help] date coaching\n",
              "attempt_suicide                            ...                      \n",
              "No                               0.363636  ...              0.158607\n",
              "Yes                              0.392523  ...              0.186916\n",
              "\n",
              "[2 rows x 4 columns]"
            ]
          },
          "metadata": {
            "tags": []
          },
          "execution_count": 531
        }
      ]
    },
    {
      "cell_type": "code",
      "metadata": {
        "colab": {
          "base_uri": "https://localhost:8080/",
          "height": 421
        },
        "id": "ag6JN9knS3Ij",
        "outputId": "f76af289-46a4-43f0-ff0a-2cdc01e41939"
      },
      "source": [
        "job_dataset = dataset.loc[:,('job_title', 'employment', 'edu_level')].applymap(lambda x: x.strip().lower() if type(x) == str else x)\n",
        "job_dataset[pd.isna(job_dataset['job_title'])]"
      ],
      "execution_count": null,
      "outputs": [
        {
          "output_type": "execute_result",
          "data": {
            "text/html": [
              "<div>\n",
              "<style scoped>\n",
              "    .dataframe tbody tr th:only-of-type {\n",
              "        vertical-align: middle;\n",
              "    }\n",
              "\n",
              "    .dataframe tbody tr th {\n",
              "        vertical-align: top;\n",
              "    }\n",
              "\n",
              "    .dataframe thead th {\n",
              "        text-align: right;\n",
              "    }\n",
              "</style>\n",
              "<table border=\"1\" class=\"dataframe\">\n",
              "  <thead>\n",
              "    <tr style=\"text-align: right;\">\n",
              "      <th></th>\n",
              "      <th>job_title</th>\n",
              "      <th>employment</th>\n",
              "      <th>edu_level</th>\n",
              "    </tr>\n",
              "  </thead>\n",
              "  <tbody>\n",
              "    <tr>\n",
              "      <th>30</th>\n",
              "      <td>NaN</td>\n",
              "      <td>a student</td>\n",
              "      <td>some high school, no diploma</td>\n",
              "    </tr>\n",
              "    <tr>\n",
              "      <th>54</th>\n",
              "      <td>NaN</td>\n",
              "      <td>a student</td>\n",
              "      <td>high school graduate, diploma or the equivalen...</td>\n",
              "    </tr>\n",
              "    <tr>\n",
              "      <th>55</th>\n",
              "      <td>NaN</td>\n",
              "      <td>out of work but not currently looking for work</td>\n",
              "      <td>some college, no degree</td>\n",
              "    </tr>\n",
              "    <tr>\n",
              "      <th>126</th>\n",
              "      <td>NaN</td>\n",
              "      <td>out of work but not currently looking for work</td>\n",
              "      <td>some college, no degree</td>\n",
              "    </tr>\n",
              "    <tr>\n",
              "      <th>130</th>\n",
              "      <td>NaN</td>\n",
              "      <td>out of work but not currently looking for work</td>\n",
              "      <td>some college, no degree</td>\n",
              "    </tr>\n",
              "    <tr>\n",
              "      <th>166</th>\n",
              "      <td>NaN</td>\n",
              "      <td>out of work but not currently looking for work</td>\n",
              "      <td>some college, no degree</td>\n",
              "    </tr>\n",
              "    <tr>\n",
              "      <th>170</th>\n",
              "      <td>NaN</td>\n",
              "      <td>out of work but not currently looking for work</td>\n",
              "      <td>associate degree</td>\n",
              "    </tr>\n",
              "    <tr>\n",
              "      <th>283</th>\n",
              "      <td>NaN</td>\n",
              "      <td>a student</td>\n",
              "      <td>some college, no degree</td>\n",
              "    </tr>\n",
              "    <tr>\n",
              "      <th>352</th>\n",
              "      <td>NaN</td>\n",
              "      <td>out of work and looking for work</td>\n",
              "      <td>high school graduate, diploma or the equivalen...</td>\n",
              "    </tr>\n",
              "    <tr>\n",
              "      <th>371</th>\n",
              "      <td>NaN</td>\n",
              "      <td>a student</td>\n",
              "      <td>some high school, no diploma</td>\n",
              "    </tr>\n",
              "    <tr>\n",
              "      <th>372</th>\n",
              "      <td>NaN</td>\n",
              "      <td>out of work but not currently looking for work</td>\n",
              "      <td>trade/technical/vocational training</td>\n",
              "    </tr>\n",
              "    <tr>\n",
              "      <th>411</th>\n",
              "      <td>NaN</td>\n",
              "      <td>out of work but not currently looking for work</td>\n",
              "      <td>some college, no degree</td>\n",
              "    </tr>\n",
              "  </tbody>\n",
              "</table>\n",
              "</div>"
            ],
            "text/plain": [
              "    job_title  ...                                          edu_level\n",
              "30        NaN  ...                       some high school, no diploma\n",
              "54        NaN  ...  high school graduate, diploma or the equivalen...\n",
              "55        NaN  ...                            some college, no degree\n",
              "126       NaN  ...                            some college, no degree\n",
              "130       NaN  ...                            some college, no degree\n",
              "166       NaN  ...                            some college, no degree\n",
              "170       NaN  ...                                   associate degree\n",
              "283       NaN  ...                            some college, no degree\n",
              "352       NaN  ...  high school graduate, diploma or the equivalen...\n",
              "371       NaN  ...                       some high school, no diploma\n",
              "372       NaN  ...                trade/technical/vocational training\n",
              "411       NaN  ...                            some college, no degree\n",
              "\n",
              "[12 rows x 3 columns]"
            ]
          },
          "metadata": {
            "tags": []
          },
          "execution_count": 532
        }
      ]
    },
    {
      "cell_type": "code",
      "metadata": {
        "colab": {
          "base_uri": "https://localhost:8080/"
        },
        "id": "i2PQC08jS7FX",
        "outputId": "885d4936-9b75-4b7b-86ef-6f13843b7d98"
      },
      "source": [
        "job_dataset['job_title'].value_counts()"
      ],
      "execution_count": null,
      "outputs": [
        {
          "output_type": "execute_result",
          "data": {
            "text/plain": [
              "student                82\n",
              "none                   31\n",
              "unemployed             15\n",
              "engineer               12\n",
              "software developer      7\n",
              "                       ..\n",
              "terminal worker         1\n",
              "assistant caretaker     1\n",
              "popo                    1\n",
              "u serious?              1\n",
              "customer service        1\n",
              "Name: job_title, Length: 239, dtype: int64"
            ]
          },
          "metadata": {
            "tags": []
          },
          "execution_count": 533
        }
      ]
    },
    {
      "cell_type": "code",
      "metadata": {
        "colab": {
          "base_uri": "https://localhost:8080/"
        },
        "id": "xr5kmCFuS_4D",
        "outputId": "1aba131c-f99a-4f61-ec7b-7c48769d9530"
      },
      "source": [
        "dataset.shape\n"
      ],
      "execution_count": null,
      "outputs": [
        {
          "output_type": "execute_result",
          "data": {
            "text/plain": [
              "(467, 31)"
            ]
          },
          "metadata": {
            "tags": []
          },
          "execution_count": 534
        }
      ]
    },
    {
      "cell_type": "code",
      "metadata": {
        "id": "C4-w_5fAUEzD"
      },
      "source": [
        "dataset = dataset.drop(['what_help_from_others', 'improve_yourself_how', 'job_title','time','race', \n",
        "                        'bodyweight', 'virgin','pay_for_sex','prostitution_legal'], axis=1)"
      ],
      "execution_count": null,
      "outputs": []
    },
    {
      "cell_type": "code",
      "metadata": {
        "colab": {
          "base_uri": "https://localhost:8080/"
        },
        "id": "eP31Xl9hUY23",
        "outputId": "bb32af7d-8517-4192-c07a-8788e8f6f667"
      },
      "source": [
        "dataset.columns"
      ],
      "execution_count": null,
      "outputs": [
        {
          "output_type": "execute_result",
          "data": {
            "text/plain": [
              "Index(['gender', 'sexuallity', 'age', 'income', 'friends', 'social_fear',\n",
              "       'depressed', 'attempt_suicide', 'employment', 'edu_level',\n",
              "       'total_improves', '[improve] other exercise',\n",
              "       '[improve] joined a gym/go to the gym',\n",
              "       '[improve] join clubs/socual clubs/meet ups', '[improve] therapy',\n",
              "       '[improve] none', '[improve] cosmetic survey', 'total_help',\n",
              "       '[help] i don't want help', '[help] set me up with a date',\n",
              "       '[help] wingman/wingwoman', '[help] date coaching'],\n",
              "      dtype='object')"
            ]
          },
          "metadata": {
            "tags": []
          },
          "execution_count": 536
        }
      ]
    },
    {
      "cell_type": "code",
      "metadata": {
        "colab": {
          "base_uri": "https://localhost:8080/"
        },
        "id": "dVN3oMXGVQXD",
        "outputId": "63b350c1-8cb4-491d-84fa-11bf937a03ef"
      },
      "source": [
        "new_income = []\n",
        "for c in dataset['income']:\n",
        "    print(c.strip('$').split(' ')[0].replace(',','.'))\n",
        "    new_income.append(float(c.strip('$').split(' ')[0].replace(',','.')))"
      ],
      "execution_count": null,
      "outputs": [
        {
          "output_type": "stream",
          "text": [
            "30.000\n",
            "1\n",
            "0\n",
            "1\n",
            "30.000\n",
            "50.000\n",
            "1\n",
            "20.000\n",
            "10.000\n",
            "50.000\n",
            "50.000\n",
            "1\n",
            "1\n",
            "0\n",
            "30.000\n",
            "0\n",
            "1\n",
            "1\n",
            "1\n",
            "75.000\n",
            "10.000\n",
            "1\n",
            "0\n",
            "1\n",
            "20.000\n",
            "0\n",
            "20.000\n",
            "0\n",
            "0\n",
            "1\n",
            "0\n",
            "1\n",
            "0\n",
            "10.000\n",
            "20.000\n",
            "0\n",
            "75.000\n",
            "30.000\n",
            "0\n",
            "0\n",
            "1\n",
            "20.000\n",
            "75.000\n",
            "0\n",
            "10.000\n",
            "20.000\n",
            "20.000\n",
            "0\n",
            "0\n",
            "150.000\n",
            "1\n",
            "1\n",
            "30.000\n",
            "10.000\n",
            "0\n",
            "0\n",
            "10.000\n",
            "20.000\n",
            "0\n",
            "1\n",
            "20.000\n",
            "1\n",
            "20.000\n",
            "1\n",
            "1\n",
            "10.000\n",
            "0\n",
            "1\n",
            "0\n",
            "20.000\n",
            "1\n",
            "10.000\n",
            "0\n",
            "50.000\n",
            "20.000\n",
            "50.000\n",
            "0\n",
            "30.000\n",
            "10.000\n",
            "1\n",
            "125.000\n",
            "30.000\n",
            "1\n",
            "1\n",
            "0\n",
            "0\n",
            "20.000\n",
            "1\n",
            "30.000\n",
            "20.000\n",
            "30.000\n",
            "10.000\n",
            "30.000\n",
            "20.000\n",
            "0\n",
            "20.000\n",
            "1\n",
            "20.000\n",
            "0\n",
            "1\n",
            "1\n",
            "0\n",
            "0\n",
            "0\n",
            "50.000\n",
            "100.000\n",
            "0\n",
            "20.000\n",
            "10.000\n",
            "0\n",
            "10.000\n",
            "30.000\n",
            "30.000\n",
            "0\n",
            "0\n",
            "20.000\n",
            "1\n",
            "0\n",
            "10.000\n",
            "75.000\n",
            "20.000\n",
            "1\n",
            "1\n",
            "0\n",
            "0\n",
            "10.000\n",
            "0\n",
            "1\n",
            "174.999\n",
            "20.000\n",
            "50.000\n",
            "1\n",
            "150.000\n",
            "1\n",
            "10.000\n",
            "0\n",
            "40.000\n",
            "30.000\n",
            "1\n",
            "200.000\n",
            "10.000\n",
            "50.000\n",
            "1\n",
            "10.000\n",
            "40.000\n",
            "0\n",
            "75.000\n",
            "0\n",
            "0\n",
            "1\n",
            "174.999\n",
            "1\n",
            "125.000\n",
            "50.000\n",
            "1\n",
            "0\n",
            "0\n",
            "0\n",
            "20.000\n",
            "30.000\n",
            "0\n",
            "0\n",
            "10.000\n",
            "75.000\n",
            "50.000\n",
            "40.000\n",
            "0\n",
            "75.000\n",
            "0\n",
            "10.000\n",
            "0\n",
            "20.000\n",
            "10.000\n",
            "1\n",
            "1\n",
            "0\n",
            "1\n",
            "50.000\n",
            "1\n",
            "30.000\n",
            "30.000\n",
            "0\n",
            "30.000\n",
            "10.000\n",
            "10.000\n",
            "0\n",
            "0\n",
            "0\n",
            "1\n",
            "0\n",
            "125.000\n",
            "0\n",
            "50.000\n",
            "0\n",
            "10.000\n",
            "0\n",
            "1\n",
            "40.000\n",
            "1\n",
            "1\n",
            "10.000\n",
            "0\n",
            "0\n",
            "0\n",
            "0\n",
            "10.000\n",
            "1\n",
            "125.000\n",
            "1\n",
            "0\n",
            "1\n",
            "0\n",
            "1\n",
            "1\n",
            "30.000\n",
            "20.000\n",
            "10.000\n",
            "1\n",
            "20.000\n",
            "1\n",
            "50.000\n",
            "30.000\n",
            "1\n",
            "1\n",
            "1\n",
            "50.000\n",
            "1\n",
            "0\n",
            "0\n",
            "0\n",
            "20.000\n",
            "10.000\n",
            "10.000\n",
            "20.000\n",
            "20.000\n",
            "0\n",
            "1\n",
            "1\n",
            "0\n",
            "0\n",
            "30.000\n",
            "30.000\n",
            "0\n",
            "0\n",
            "10.000\n",
            "50.000\n",
            "0\n",
            "0\n",
            "0\n",
            "10.000\n",
            "10.000\n",
            "10.000\n",
            "1\n",
            "0\n",
            "10.000\n",
            "0\n",
            "0\n",
            "30.000\n",
            "0\n",
            "1\n",
            "30.000\n",
            "0\n",
            "100.000\n",
            "0\n",
            "50.000\n",
            "1\n",
            "0\n",
            "20.000\n",
            "0\n",
            "125.000\n",
            "30.000\n",
            "50.000\n",
            "50.000\n",
            "30.000\n",
            "0\n",
            "0\n",
            "1\n",
            "0\n",
            "0\n",
            "20.000\n",
            "0\n",
            "0\n",
            "50.000\n",
            "1\n",
            "40.000\n",
            "0\n",
            "0\n",
            "0\n",
            "0\n",
            "1\n",
            "10.000\n",
            "10.000\n",
            "50.000\n",
            "0\n",
            "40.000\n",
            "40.000\n",
            "30.000\n",
            "1\n",
            "10.000\n",
            "10.000\n",
            "0\n",
            "0\n",
            "1\n",
            "0\n",
            "20.000\n",
            "1\n",
            "0\n",
            "0\n",
            "0\n",
            "40.000\n",
            "30.000\n",
            "75.000\n",
            "0\n",
            "0\n",
            "50.000\n",
            "20.000\n",
            "0\n",
            "0\n",
            "1\n",
            "10.000\n",
            "20.000\n",
            "50.000\n",
            "20.000\n",
            "50.000\n",
            "20.000\n",
            "0\n",
            "1\n",
            "0\n",
            "1\n",
            "0\n",
            "30.000\n",
            "0\n",
            "0\n",
            "1\n",
            "10.000\n",
            "0\n",
            "30.000\n",
            "20.000\n",
            "0\n",
            "10.000\n",
            "10.000\n",
            "1\n",
            "0\n",
            "1\n",
            "40.000\n",
            "0\n",
            "10.000\n",
            "0\n",
            "1\n",
            "0\n",
            "0\n",
            "0\n",
            "0\n",
            "1\n",
            "10.000\n",
            "10.000\n",
            "20.000\n",
            "40.000\n",
            "30.000\n",
            "20.000\n",
            "0\n",
            "0\n",
            "0\n",
            "30.000\n",
            "10.000\n",
            "10.000\n",
            "0\n",
            "50.000\n",
            "1\n",
            "0\n",
            "0\n",
            "0\n",
            "40.000\n",
            "50.000\n",
            "0\n",
            "20.000\n",
            "1\n",
            "0\n",
            "1\n",
            "0\n",
            "30.000\n",
            "30.000\n",
            "1\n",
            "10.000\n",
            "0\n",
            "0\n",
            "0\n",
            "0\n",
            "10.000\n",
            "50.000\n",
            "0\n",
            "1\n",
            "20.000\n",
            "1\n",
            "200.000\n",
            "30.000\n",
            "10.000\n",
            "1\n",
            "0\n",
            "0\n",
            "125.000\n",
            "0\n",
            "10.000\n",
            "0\n",
            "0\n",
            "0\n",
            "40.000\n",
            "20.000\n",
            "20.000\n",
            "0\n",
            "0\n",
            "1\n",
            "100.000\n",
            "1\n",
            "50.000\n",
            "0\n",
            "0\n",
            "1\n",
            "1\n",
            "1\n",
            "0\n",
            "0\n",
            "0\n",
            "1\n",
            "0\n",
            "1\n",
            "10.000\n",
            "30.000\n",
            "30.000\n",
            "1\n",
            "10.000\n",
            "10.000\n",
            "1\n",
            "0\n",
            "20.000\n",
            "10.000\n",
            "0\n",
            "1\n",
            "0\n",
            "10.000\n",
            "0\n",
            "30.000\n",
            "0\n",
            "1\n",
            "10.000\n",
            "0\n",
            "0\n",
            "1\n",
            "30.000\n",
            "0\n",
            "1\n",
            "0\n",
            "10.000\n",
            "40.000\n",
            "0\n",
            "1\n",
            "75.000\n",
            "40.000\n",
            "20.000\n",
            "1\n",
            "0\n",
            "0\n",
            "10.000\n",
            "30.000\n",
            "1\n",
            "0\n",
            "40.000\n"
          ],
          "name": "stdout"
        }
      ]
    },
    {
      "cell_type": "code",
      "metadata": {
        "id": "L7eOapI4XU4E"
      },
      "source": [
        "dataset['income_process'] = new_income\n",
        "dataset = dataset.drop(labels=['income'],axis=1)"
      ],
      "execution_count": null,
      "outputs": []
    },
    {
      "cell_type": "code",
      "metadata": {
        "id": "24T8L6--Xm4i"
      },
      "source": [
        "def preprocess(col):\n",
        "    cols= list(dict(dataset[col].value_counts()).keys())\n",
        "    vals= []\n",
        "    for i in range(len(cols)):\n",
        "        vals.append(i)\n",
        "    val_dict = dict((key,val) for key,val in zip(cols,vals))\n",
        "    dataset[col] = dataset[col].map(val_dict)"
      ],
      "execution_count": null,
      "outputs": []
    },
    {
      "cell_type": "code",
      "metadata": {
        "id": "U_t63ncQXw4k"
      },
      "source": [
        "for col in dataset.columns:\n",
        "  preprocess(col)"
      ],
      "execution_count": null,
      "outputs": []
    },
    {
      "cell_type": "code",
      "metadata": {
        "colab": {
          "base_uri": "https://localhost:8080/",
          "height": 292
        },
        "id": "9US4s5LVY5Ou",
        "outputId": "623f327d-e17c-43b8-8d11-9bfa882b8fe2"
      },
      "source": [
        "dataset.head()"
      ],
      "execution_count": null,
      "outputs": [
        {
          "output_type": "execute_result",
          "data": {
            "text/html": [
              "<div>\n",
              "<style scoped>\n",
              "    .dataframe tbody tr th:only-of-type {\n",
              "        vertical-align: middle;\n",
              "    }\n",
              "\n",
              "    .dataframe tbody tr th {\n",
              "        vertical-align: top;\n",
              "    }\n",
              "\n",
              "    .dataframe thead th {\n",
              "        text-align: right;\n",
              "    }\n",
              "</style>\n",
              "<table border=\"1\" class=\"dataframe\">\n",
              "  <thead>\n",
              "    <tr style=\"text-align: right;\">\n",
              "      <th></th>\n",
              "      <th>gender</th>\n",
              "      <th>sexuallity</th>\n",
              "      <th>age</th>\n",
              "      <th>friends</th>\n",
              "      <th>social_fear</th>\n",
              "      <th>depressed</th>\n",
              "      <th>attempt_suicide</th>\n",
              "      <th>employment</th>\n",
              "      <th>edu_level</th>\n",
              "      <th>total_improves</th>\n",
              "      <th>[improve] other exercise</th>\n",
              "      <th>[improve] joined a gym/go to the gym</th>\n",
              "      <th>[improve] join clubs/socual clubs/meet ups</th>\n",
              "      <th>[improve] therapy</th>\n",
              "      <th>[improve] none</th>\n",
              "      <th>[improve] cosmetic survey</th>\n",
              "      <th>total_help</th>\n",
              "      <th>[help] i don't want help</th>\n",
              "      <th>[help] set me up with a date</th>\n",
              "      <th>[help] wingman/wingwoman</th>\n",
              "      <th>[help] date coaching</th>\n",
              "      <th>income_process</th>\n",
              "    </tr>\n",
              "  </thead>\n",
              "  <tbody>\n",
              "    <tr>\n",
              "      <th>0</th>\n",
              "      <td>0</td>\n",
              "      <td>0</td>\n",
              "      <td>15</td>\n",
              "      <td>0</td>\n",
              "      <td>0</td>\n",
              "      <td>0</td>\n",
              "      <td>1</td>\n",
              "      <td>1</td>\n",
              "      <td>5</td>\n",
              "      <td>2</td>\n",
              "      <td>0</td>\n",
              "      <td>0</td>\n",
              "      <td>0</td>\n",
              "      <td>0</td>\n",
              "      <td>1</td>\n",
              "      <td>0</td>\n",
              "      <td>3</td>\n",
              "      <td>0</td>\n",
              "      <td>1</td>\n",
              "      <td>1</td>\n",
              "      <td>0</td>\n",
              "      <td>4</td>\n",
              "    </tr>\n",
              "    <tr>\n",
              "      <th>1</th>\n",
              "      <td>0</td>\n",
              "      <td>1</td>\n",
              "      <td>1</td>\n",
              "      <td>0</td>\n",
              "      <td>0</td>\n",
              "      <td>0</td>\n",
              "      <td>0</td>\n",
              "      <td>3</td>\n",
              "      <td>0</td>\n",
              "      <td>0</td>\n",
              "      <td>0</td>\n",
              "      <td>0</td>\n",
              "      <td>1</td>\n",
              "      <td>0</td>\n",
              "      <td>0</td>\n",
              "      <td>0</td>\n",
              "      <td>2</td>\n",
              "      <td>0</td>\n",
              "      <td>1</td>\n",
              "      <td>1</td>\n",
              "      <td>1</td>\n",
              "      <td>1</td>\n",
              "    </tr>\n",
              "    <tr>\n",
              "      <th>2</th>\n",
              "      <td>0</td>\n",
              "      <td>0</td>\n",
              "      <td>2</td>\n",
              "      <td>5</td>\n",
              "      <td>0</td>\n",
              "      <td>0</td>\n",
              "      <td>0</td>\n",
              "      <td>2</td>\n",
              "      <td>0</td>\n",
              "      <td>0</td>\n",
              "      <td>1</td>\n",
              "      <td>0</td>\n",
              "      <td>0</td>\n",
              "      <td>0</td>\n",
              "      <td>0</td>\n",
              "      <td>0</td>\n",
              "      <td>0</td>\n",
              "      <td>1</td>\n",
              "      <td>0</td>\n",
              "      <td>0</td>\n",
              "      <td>0</td>\n",
              "      <td>0</td>\n",
              "    </tr>\n",
              "    <tr>\n",
              "      <th>3</th>\n",
              "      <td>0</td>\n",
              "      <td>0</td>\n",
              "      <td>6</td>\n",
              "      <td>10</td>\n",
              "      <td>0</td>\n",
              "      <td>0</td>\n",
              "      <td>0</td>\n",
              "      <td>0</td>\n",
              "      <td>0</td>\n",
              "      <td>0</td>\n",
              "      <td>0</td>\n",
              "      <td>1</td>\n",
              "      <td>0</td>\n",
              "      <td>0</td>\n",
              "      <td>0</td>\n",
              "      <td>0</td>\n",
              "      <td>1</td>\n",
              "      <td>0</td>\n",
              "      <td>0</td>\n",
              "      <td>0</td>\n",
              "      <td>1</td>\n",
              "      <td>1</td>\n",
              "    </tr>\n",
              "    <tr>\n",
              "      <th>4</th>\n",
              "      <td>0</td>\n",
              "      <td>0</td>\n",
              "      <td>0</td>\n",
              "      <td>5</td>\n",
              "      <td>1</td>\n",
              "      <td>0</td>\n",
              "      <td>0</td>\n",
              "      <td>1</td>\n",
              "      <td>2</td>\n",
              "      <td>2</td>\n",
              "      <td>0</td>\n",
              "      <td>0</td>\n",
              "      <td>0</td>\n",
              "      <td>0</td>\n",
              "      <td>1</td>\n",
              "      <td>0</td>\n",
              "      <td>0</td>\n",
              "      <td>1</td>\n",
              "      <td>0</td>\n",
              "      <td>0</td>\n",
              "      <td>0</td>\n",
              "      <td>4</td>\n",
              "    </tr>\n",
              "  </tbody>\n",
              "</table>\n",
              "</div>"
            ],
            "text/plain": [
              "   gender  sexuallity  ...  [help] date coaching  income_process\n",
              "0       0           0  ...                     0               4\n",
              "1       0           1  ...                     1               1\n",
              "2       0           0  ...                     0               0\n",
              "3       0           0  ...                     1               1\n",
              "4       0           0  ...                     0               4\n",
              "\n",
              "[5 rows x 22 columns]"
            ]
          },
          "metadata": {
            "tags": []
          },
          "execution_count": 541
        }
      ]
    },
    {
      "cell_type": "code",
      "metadata": {
        "id": "6Pa7U8xrZEn0"
      },
      "source": [
        "import re\n",
        "regex = re.compile(r\"\\[|\\]|<\", re.IGNORECASE)\n",
        "\n",
        "dataset.columns = [regex.sub(\"_\", col) if any(x in str(col) for x in set(('[', ']', '<'))) else col for col in dataset.columns.values]\n",
        "X = dataset.drop(labels=['attempt_suicide'],axis=1)\n",
        "y = dataset['attempt_suicide']\n",
        "\n",
        "from sklearn.model_selection import train_test_split\n",
        "X_train, X_test, y_train, y_test = train_test_split(X, y, test_size=0.2,random_state=100)\n"
      ],
      "execution_count": null,
      "outputs": []
    },
    {
      "cell_type": "code",
      "metadata": {
        "colab": {
          "base_uri": "https://localhost:8080/",
          "height": 103
        },
        "id": "uUtgycgzdP2h",
        "outputId": "a5ff5a91-41b5-4246-8010-b674c5602326"
      },
      "source": [
        "\"\"\"from imblearn.over_sampling import SMOTE\n",
        "smote = SMOTE(random_state=10)\n",
        "X_train_smote,y_train_smote = smote.fit_sample(X_train,y_train)\n",
        "#\"X_test_smote,y_test_smote = smote.fit_sample(,y_test)\n",
        "\n",
        "from collections import Counter\n",
        "print(\"Before smote --\",Counter(y_train))\n",
        "print(\"Before smote --\",Counter(y_train_smote))\n",
        "print(X_train_smote.shape)\n",
        "#X_test = X_test.astype('float')\n",
        "#print(np.array(X_train_smote))\"\"\""
      ],
      "execution_count": null,
      "outputs": [
        {
          "output_type": "execute_result",
          "data": {
            "application/vnd.google.colaboratory.intrinsic+json": {
              "type": "string"
            },
            "text/plain": [
              "'from imblearn.over_sampling import SMOTE\\nsmote = SMOTE(random_state=10)\\nX_train_smote,y_train_smote = smote.fit_sample(X_train,y_train)\\n#\"X_test_smote,y_test_smote = smote.fit_sample(,y_test)\\n\\nfrom collections import Counter\\nprint(\"Before smote --\",Counter(y_train))\\nprint(\"Before smote --\",Counter(y_train_smote))\\nprint(X_train_smote.shape)\\n#X_test = X_test.astype(\\'float\\')\\n#print(np.array(X_train_smote))'"
            ]
          },
          "metadata": {
            "tags": []
          },
          "execution_count": 543
        }
      ]
    },
    {
      "cell_type": "code",
      "metadata": {
        "colab": {
          "base_uri": "https://localhost:8080/"
        },
        "id": "XMsIvw-bNKzf",
        "outputId": "f581063a-3176-4f4f-db3b-9b272d971b79"
      },
      "source": [
        "#import library\n",
        "from imblearn.over_sampling import RandomOverSampler\n",
        "\n",
        "ros = RandomOverSampler(random_state=42)\n",
        "# fit predictor and target variablex_ros, y_ros = ros.fit_resample(x, y)\n",
        "X_train_smote,y_train_smote = ros.fit_sample(X_train,y_train)\n",
        "from collections import Counter\n",
        "print(\"Before smote --\",Counter(y_train))\n",
        "print(\"Before smote --\",Counter(y_train_smote))"
      ],
      "execution_count": null,
      "outputs": [
        {
          "output_type": "stream",
          "text": [
            "Before smote -- Counter({0: 298, 1: 75})\n",
            "Before smote -- Counter({0: 298, 1: 298})\n"
          ],
          "name": "stdout"
        }
      ]
    },
    {
      "cell_type": "code",
      "metadata": {
        "colab": {
          "base_uri": "https://localhost:8080/"
        },
        "id": "kxLS0YVKm_oF",
        "outputId": "3c4fec83-298d-4928-c6bd-282fab81aa44"
      },
      "source": [
        "from xgboost import  XGBClassifier \n",
        "\"\"\"84.04model = XGBClassifier(max_depth=15,subsample=0.9,n_estimators=400,\n",
        "                      learning_rate=0.025,min_child_weight=0.6,random_state = 10)\n",
        "#model = XGBClassifier(learning_rate=0.01, max_depth= 15, min_child_weight = 0.7, \n",
        "                      #n_estimators=100, random_state= 10, subsample = 0.7)\"\"\"\n",
        "\"\"\"model = XGBClassifier(max_depth=20,subsample=0.9,n_estimators=400,\n",
        "                      learning_rate=0.025,min_child_weight=0.6,\n",
        "                      random_state = 10,scale_pos_weight=1, \n",
        "                      colsample_bytree = 0.5) 86 balanced\"\"\"\n",
        "\n",
        "model = XGBClassifier(max_depth=12,subsample=0.74,n_estimators=250,\n",
        "                      learning_rate=0.01,min_child_weight=0.6,\n",
        "                      random_state = 10,scale_pos_weight=0.4, \n",
        "                      colsample_bytree = 0.5)\n",
        "model.fit(X_train_smote,y_train_smote)\n",
        "#X_test = X_test[X_train_smote.dtype.names]\n",
        "y_predict = model.predict(X_test.values)\n",
        "#y_train_predict = model.predict(X_train_smote)\n",
        "xgbyproba = model.predict_proba(X_test.values)[::,1]\n",
        "\n",
        "from sklearn.metrics import accuracy_score\n",
        "print(\"test - result\",accuracy_score(y_test,y_predict))\n",
        "#print(\"Train- Result\",accuracy_score(y_train,y_train_predict))\n"
      ],
      "execution_count": null,
      "outputs": [
        {
          "output_type": "stream",
          "text": [
            "test - result 0.8936170212765957\n"
          ],
          "name": "stdout"
        }
      ]
    },
    {
      "cell_type": "code",
      "metadata": {
        "colab": {
          "base_uri": "https://localhost:8080/",
          "height": 318
        },
        "id": "zEQ4MoP-cBNt",
        "outputId": "8c2b4c2c-81df-4f90-9592-d5e342153151"
      },
      "source": [
        "from sklearn.metrics import roc_curve,roc_auc_score\n",
        "xgbt_fpr, xgbt_tpr, thresholds = roc_curve(y_test, model.predict_proba(X_test.values)[:,1],drop_intermediate=False)\n",
        "auc = roc_auc_score(y_test,model.predict_proba(X_test.values)[:,1])\n",
        "print(\"roc_auc_score\",auc)\n",
        "plt.xlim([0.0, 1.0])\n",
        "plt.ylim([0.0, 1.0])\n",
        "plt.title('ROC curve for breast cancer classifier')\n",
        "plt.xlabel('False Positive Rate (1 - Specificity)')\n",
        "plt.ylabel('True Positive Rate (Sensitivity)')\n",
        "plt.plot(xgbt_fpr, xgbt_tpr,color='red',lw=5)\n",
        "plt.show()"
      ],
      "execution_count": null,
      "outputs": [
        {
          "output_type": "stream",
          "text": [
            "roc_auc_score 0.7785714285714287\n"
          ],
          "name": "stdout"
        },
        {
          "output_type": "display_data",
          "data": {
            "image/png": "[encoded data removed]",
            "text/plain": [
              "<Figure size 432x288 with 1 Axes>"
            ]
          },
          "metadata": {
            "tags": [],
            "needs_background": "light"
          }
        }
      ]
    },
    {
      "cell_type": "code",
      "metadata": {
        "colab": {
          "base_uri": "https://localhost:8080/",
          "height": 154
        },
        "id": "EvWhG_lftdzE",
        "outputId": "7c175176-a751-45ce-f391-b0f650cefcd8"
      },
      "source": [
        "\"\"\"from sklearn.model_selection import GridSearchCV\n",
        "clf =  XGBClassifier()\n",
        "parameters = {\n",
        "    'n_estimators': [100, 250, 500],\n",
        "    'max_depth': [6, 9, 12],\n",
        "    'subsample': [0.9, 1.0,0.7],\n",
        "    'learning_rate': [0.01, 0.02,0.05],\n",
        "    'min_child_weight': [0.7, 0.8,0.6],\n",
        "    'random_state': [5, 10,105]\n",
        "}\n",
        "grid = GridSearchCV(clf,\n",
        "                    parameters, n_jobs=4,\n",
        "                    scoring=\"neg_log_loss\",\n",
        "                    cv=3)\n",
        "\n",
        "grid.fit(X_train_smote, y_train_smote)\n",
        "print(\"Best: %f using %s\" % (grid.best_score_, grid.best_params_))\n",
        "\n",
        "means = grid.cv_results_['mean_test_score']\n",
        "stds = grid.cv_results_['std_test_score']\n",
        "params = grid.cv_results_['params']\n",
        "\n",
        "for mean, stdev, param in zip(means, stds, params):\n",
        "    print(\"%f (%f) with: %r\" % (mean, stdev, param))\"\"\""
      ],
      "execution_count": null,
      "outputs": [
        {
          "output_type": "execute_result",
          "data": {
            "application/vnd.google.colaboratory.intrinsic+json": {
              "type": "string"
            },
            "text/plain": [
              "'from sklearn.model_selection import GridSearchCV\\nclf =  XGBClassifier()\\nparameters = {\\n    \\'n_estimators\\': [100, 250, 500],\\n    \\'max_depth\\': [6, 9, 12],\\n    \\'subsample\\': [0.9, 1.0,0.7],\\n    \\'learning_rate\\': [0.01, 0.02,0.05],\\n    \\'min_child_weight\\': [0.7, 0.8,0.6],\\n    \\'random_state\\': [5, 10,105]\\n}\\ngrid = GridSearchCV(clf,\\n                    parameters, n_jobs=4,\\n                    scoring=\"neg_log_loss\",\\n                    cv=3)\\n\\ngrid.fit(X_train_smote, y_train_smote)\\nprint(\"Best: %f using %s\" % (grid.best_score_, grid.best_params_))\\n\\nmeans = grid.cv_results_[\\'mean_test_score\\']\\nstds = grid.cv_results_[\\'std_test_score\\']\\nparams = grid.cv_results_[\\'params\\']\\n\\nfor mean, stdev, param in zip(means, stds, params):\\n    print(\"%f (%f) with: %r\" % (mean, stdev, param))'"
            ]
          },
          "metadata": {
            "tags": []
          },
          "execution_count": 547
        }
      ]
    },
    {
      "cell_type": "code",
      "metadata": {
        "colab": {
          "base_uri": "https://localhost:8080/",
          "height": 472
        },
        "id": "rQBG-KSWnD2q",
        "outputId": "35803ad0-f927-4674-888c-bca8a995f02f"
      },
      "source": [
        "import seaborn as sns\n",
        "from sklearn.metrics import confusion_matrix,classification_report\n",
        "cf_matrix = confusion_matrix(y_test.values, y_predict)\n",
        "print(cf_matrix)\n",
        "group_names = [\"True Pos\",\"False Neg\",\"False Pos\",\"True Neg\"]\n",
        "group_counts = ['{0:0.0f}'.format(value) for value in\n",
        "                cf_matrix.flatten()]\n",
        "group_percentages = ['{0:.2%}'.format(value) for value in\n",
        "                     cf_matrix.flatten()/np.sum(cf_matrix)]\n",
        "labels = [f'{v1}\\n{v2}\\n{v3}' for v1, v2, v3 in\n",
        "          zip(group_names,group_counts,group_percentages)]\n",
        "labels = np.asarray(labels).reshape(2,2)\n",
        "import seaborn as sns\n",
        "sns.heatmap(cf_matrix, annot=labels, fmt=\"\", cmap='Blues')\n",
        "#labels = [\"True Neg\",\"False Pos\",\"False Neg\",\"True Pos\"]\n",
        "\n",
        "plt.xlabel(\"Predict\")\n",
        "plt.ylabel(\"Truth\")\n",
        "plt.show()\n",
        "print(classification_report(y_test.values,y_predict))"
      ],
      "execution_count": null,
      "outputs": [
        {
          "output_type": "stream",
          "text": [
            "[[82  2]\n",
            " [ 8  2]]\n"
          ],
          "name": "stdout"
        },
        {
          "output_type": "display_data",
          "data": {
            "image/png": "[encoded data removed]",
            "text/plain": [
              "<Figure size 432x288 with 2 Axes>"
            ]
          },
          "metadata": {
            "tags": [],
            "needs_background": "light"
          }
        },
        {
          "output_type": "stream",
          "text": [
            "              precision    recall  f1-score   support\n",
            "\n",
            "           0       0.91      0.98      0.94        84\n",
            "           1       0.50      0.20      0.29        10\n",
            "\n",
            "    accuracy                           0.89        94\n",
            "   macro avg       0.71      0.59      0.61        94\n",
            "weighted avg       0.87      0.89      0.87        94\n",
            "\n"
          ],
          "name": "stdout"
        }
      ]
    },
    {
      "cell_type": "code",
      "metadata": {
        "colab": {
          "base_uri": "https://localhost:8080/",
          "height": 120
        },
        "id": "SwO1aFMinH44",
        "outputId": "3190c8a9-42fa-4589-9d9d-3dc428673cf8"
      },
      "source": [
        "\"\"\"from sklearn.metrics import roc_curve, auc\n",
        "#import scikitplot.metrics as skplt\n",
        "#print(y_pred_svm)\n",
        "xgbt_fpr, xgbt_tpr, threshold = roc_curve(y_test, y_predict)\n",
        "#print(svm_fpr)\n",
        "auc_svm = auc(xg_fpr, xg_tpr)\n",
        "#skplt.plot_roc (Y_test, preds)\n",
        "plt.show()\n",
        "plt.figure(figsize=(5, 5), dpi=100)\n",
        "plt.plot(xg_fpr, xg_tpr, marker='.')\n",
        "#plt.plot(logistic_fpr, logistic_tpr, marker='.', label='Logistic (auc = %0.3f)' % auc_logistic)\n",
        "\n",
        "plt.xlabel('False Positive Rate -->')\n",
        "plt.ylabel('True Positive Rate -->')\n",
        "\n",
        "plt.legend()\n",
        "\n",
        "plt.show()\"\"\""
      ],
      "execution_count": null,
      "outputs": [
        {
          "output_type": "execute_result",
          "data": {
            "application/vnd.google.colaboratory.intrinsic+json": {
              "type": "string"
            },
            "text/plain": [
              "\"from sklearn.metrics import roc_curve, auc\\n#import scikitplot.metrics as skplt\\n#print(y_pred_svm)\\nxgbt_fpr, xgbt_tpr, threshold = roc_curve(y_test, y_predict)\\n#print(svm_fpr)\\nauc_svm = auc(xg_fpr, xg_tpr)\\n#skplt.plot_roc (Y_test, preds)\\nplt.show()\\nplt.figure(figsize=(5, 5), dpi=100)\\nplt.plot(xg_fpr, xg_tpr, marker='.')\\n#plt.plot(logistic_fpr, logistic_tpr, marker='.', label='Logistic (auc = %0.3f)' % auc_logistic)\\n\\nplt.xlabel('False Positive Rate -->')\\nplt.ylabel('True Positive Rate -->')\\n\\nplt.legend()\\n\\nplt.show()\""
            ]
          },
          "metadata": {
            "tags": []
          },
          "execution_count": 549
        }
      ]
    },
    {
      "cell_type": "code",
      "metadata": {
        "colab": {
          "base_uri": "https://localhost:8080/",
          "height": 318
        },
        "id": "XZoWRme8nKrr",
        "outputId": "ae6af75c-71ae-4032-a164-e0b0ed09c92b"
      },
      "source": [
        "import lightgbm as lgb\n",
        "#X_train_smote y_train_smote\n",
        "eval_set = [(X_train_smote,y_train_smote), (X_test, y_test)]\n",
        "\n",
        "\"\"\"model = lgb.LGBMClassifier(learning_rate=0.025,n_estimators=400,\n",
        "                           random_state=100,max_depth= 5,max_bin = 200,\n",
        "                           num_leaves = 25,min_child_weight=0.7)\"\"\"\n",
        "\n",
        "\"\"\"model = lgb.LGBMClassifier(learning_rate=0.025,n_estimators= 400,\n",
        "                          random_state=5,max_depth= 5,max_bin = 200,\n",
        "                           num_leaves = 10,min_child_weight=0.6)\n",
        "\"bagging_fraction\" : 0.7,\n",
        "        \"feature_fraction\" : 0.5,\n",
        "        \"bagging_frequency\" : 6,\n",
        "\n",
        "\"\"\"\n",
        "\"\"\"model = lgb.LGBMClassifier(learning_rate=0.05,n_estimators= 400,\n",
        "                          random_state=5,max_depth= 5,max_bin = 100,\n",
        "                           num_leaves = 15,min_child_weight=0.7) 84\"\"\"\n",
        "\n",
        "model = lgb.LGBMClassifier(learning_rate=0.05,n_estimators= 400,\n",
        "                          random_state=42,max_depth= 10,max_bin = 100,\n",
        "                           num_leaves = 25,min_child_weight=0.2,\n",
        "                           feature_fraction = 0.9,) \n",
        "model.fit(X_train_smote, y_train_smote,eval_set=eval_set, verbose= False)\n",
        "lgb.plot_metric(model)\n",
        "y_pred = model.predict(X_test)\n",
        "predictions = [round(value) for value in y_pred]\n",
        "#y_train_predict = model.predict(X_train)\n",
        "y_preds = model.predict_proba(X_test)\n",
        "\n",
        "# take the second column because the classifier outputs scores for\n",
        "# the 0 class as well\n",
        "preds = y_preds[:,1]\n",
        "# evaluate predictions\n",
        "accuracy = accuracy_score(y_test, predictions)\n",
        "#ac = accuracy_score(y_train, y_train_predict)\n",
        "print(\"Test Accuracy: %.2f%%\" % (accuracy * 100.0))\n",
        "#print(\"Train Accuracy: %.2f%%\" % (ac * 100.0))"
      ],
      "execution_count": null,
      "outputs": [
        {
          "output_type": "stream",
          "text": [
            "Test Accuracy: 86.17%\n"
          ],
          "name": "stdout"
        },
        {
          "output_type": "display_data",
          "data": {
            "image/png": "[encoded data removed]",
            "text/plain": [
              "<Figure size 432x288 with 1 Axes>"
            ]
          },
          "metadata": {
            "tags": [],
            "needs_background": "light"
          }
        }
      ]
    },
    {
      "cell_type": "code",
      "metadata": {
        "colab": {
          "base_uri": "https://localhost:8080/",
          "height": 318
        },
        "id": "9wczJ--kbikc",
        "outputId": "3f5a5f60-93e8-4d57-b679-54b4f6843984"
      },
      "source": [
        "from sklearn.metrics import roc_curve,roc_auc_score\n",
        "fpr, tpr, thresholds = roc_curve(y_test, model.predict_proba(X_test)[:,1],drop_intermediate=False)\n",
        "auc = roc_auc_score(y_test,model.predict_proba(X_test)[:,1])\n",
        "print(\"roc_auc_score\",auc)\n",
        "plt.xlim([0.0, 1.0])\n",
        "plt.ylim([0.0, 1.0])\n",
        "plt.title('ROC curve for breast cancer classifier')\n",
        "plt.xlabel('False Positive Rate (1 - Specificity)')\n",
        "plt.ylabel('True Positive Rate (Sensitivity)')\n",
        "plt.plot(fpr, tpr,color='red',lw=5)\n",
        "plt.show()"
      ],
      "execution_count": null,
      "outputs": [
        {
          "output_type": "stream",
          "text": [
            "roc_auc_score 0.7476190476190476\n"
          ],
          "name": "stdout"
        },
        {
          "output_type": "display_data",
          "data": {
            "image/png": "[encoded data removed]",
            "text/plain": [
              "<Figure size 432x288 with 1 Axes>"
            ]
          },
          "metadata": {
            "tags": [],
            "needs_background": "light"
          }
        }
      ]
    },
    {
      "cell_type": "code",
      "metadata": {
        "colab": {
          "base_uri": "https://localhost:8080/",
          "height": 171
        },
        "id": "igIX0n_bP8tE",
        "outputId": "ec2ccb21-3bf0-45cc-a447-c809826510ac"
      },
      "source": [
        "\"\"\"from sklearn.model_selection import GridSearchCV\n",
        "clf =  lgb.LGBMClassifier()\n",
        "parameters = {\n",
        "    'n_estimators': [100, 200, 300],\n",
        "    'max_depth': [6, 9, 12],\n",
        "    'max_bin': [200, 50,100],\n",
        "    'learning_rate': [0.01, 0.025,0.05],\n",
        "    'min_child_weight': [0.7, 0.8,0.6],\n",
        "    'random_state': [5, 10,30],\n",
        "    'num_leaves': [25, 10,30]\n",
        "}\n",
        "grid = GridSearchCV(clf,\n",
        "                    parameters, n_jobs=4,\n",
        "                    scoring=\"neg_log_loss\",\n",
        "                    cv=3)\n",
        "\n",
        "grid.fit(X_train, y_train)\n",
        "print(\"Best: %f using %s\" % (grid.best_score_, grid.best_params_))\n",
        "\n",
        "means = grid.cv_results_['mean_test_score']\n",
        "stds = grid.cv_results_['std_test_score']\n",
        "params = grid.cv_results_['params']\n",
        "\n",
        "for mean, stdev, param in zip(means, stds, params):\n",
        "    print(\"%f (%f) with: %r\" % (mean, stdev, param))\"\"\""
      ],
      "execution_count": null,
      "outputs": [
        {
          "output_type": "execute_result",
          "data": {
            "application/vnd.google.colaboratory.intrinsic+json": {
              "type": "string"
            },
            "text/plain": [
              "'from sklearn.model_selection import GridSearchCV\\nclf =  lgb.LGBMClassifier()\\nparameters = {\\n    \\'n_estimators\\': [100, 200, 300],\\n    \\'max_depth\\': [6, 9, 12],\\n    \\'max_bin\\': [200, 50,100],\\n    \\'learning_rate\\': [0.01, 0.025,0.05],\\n    \\'min_child_weight\\': [0.7, 0.8,0.6],\\n    \\'random_state\\': [5, 10,30],\\n    \\'num_leaves\\': [25, 10,30]\\n}\\ngrid = GridSearchCV(clf,\\n                    parameters, n_jobs=4,\\n                    scoring=\"neg_log_loss\",\\n                    cv=3)\\n\\ngrid.fit(X_train, y_train)\\nprint(\"Best: %f using %s\" % (grid.best_score_, grid.best_params_))\\n\\nmeans = grid.cv_results_[\\'mean_test_score\\']\\nstds = grid.cv_results_[\\'std_test_score\\']\\nparams = grid.cv_results_[\\'params\\']\\n\\nfor mean, stdev, param in zip(means, stds, params):\\n    print(\"%f (%f) with: %r\" % (mean, stdev, param))'"
            ]
          },
          "metadata": {
            "tags": []
          },
          "execution_count": 552
        }
      ]
    },
    {
      "cell_type": "code",
      "metadata": {
        "colab": {
          "base_uri": "https://localhost:8080/",
          "height": 472
        },
        "id": "WQDOK8AQP9Sw",
        "outputId": "ef2e4075-8664-41ae-c180-23259140c011"
      },
      "source": [
        "import seaborn as sns\n",
        "from sklearn.metrics import confusion_matrix,classification_report\n",
        "cf_matrix = confusion_matrix(y_test, predictions)\n",
        "print(cf_matrix)\n",
        "group_names = [\"True Pos\",\"False Neg\",\"False Pos\",\"True Neg\"]\n",
        "group_counts = ['{0:0.0f}'.format(value) for value in\n",
        "                cf_matrix.flatten()]\n",
        "group_percentages = ['{0:.2%}'.format(value) for value in\n",
        "                     cf_matrix.flatten()/np.sum(cf_matrix)]\n",
        "labels = [f'{v1}\\n{v2}\\n{v3}' for v1, v2, v3 in\n",
        "          zip(group_names,group_counts,group_percentages)]\n",
        "labels = np.asarray(labels).reshape(2,2)\n",
        "import seaborn as sns\n",
        "sns.heatmap(cf_matrix, annot=labels, fmt=\"\", cmap='Blues')\n",
        "#labels = [\"True Neg\",\"False Pos\",\"False Neg\",\"True Pos\"]\n",
        "\n",
        "plt.xlabel(\"Predict\")\n",
        "plt.ylabel(\"Truth\")\n",
        "plt.show()\n",
        "print(classification_report(y_test,predictions))"
      ],
      "execution_count": null,
      "outputs": [
        {
          "output_type": "stream",
          "text": [
            "[[77  7]\n",
            " [ 6  4]]\n"
          ],
          "name": "stdout"
        },
        {
          "output_type": "display_data",
          "data": {
            "image/png": "[encoded data removed]",
            "text/plain": [
              "<Figure size 432x288 with 2 Axes>"
            ]
          },
          "metadata": {
            "tags": [],
            "needs_background": "light"
          }
        },
        {
          "output_type": "stream",
          "text": [
            "              precision    recall  f1-score   support\n",
            "\n",
            "           0       0.93      0.92      0.92        84\n",
            "           1       0.36      0.40      0.38        10\n",
            "\n",
            "    accuracy                           0.86        94\n",
            "   macro avg       0.65      0.66      0.65        94\n",
            "weighted avg       0.87      0.86      0.86        94\n",
            "\n"
          ],
          "name": "stdout"
        }
      ]
    },
    {
      "cell_type": "code",
      "metadata": {
        "colab": {
          "base_uri": "https://localhost:8080/",
          "height": 159
        },
        "id": "OJJxhanEnT2I",
        "outputId": "c492d1c8-7221-4d3d-bba1-a0e0a1c40bcc"
      },
      "source": [
        "from sklearn import svm\n",
        "#X_train_smote y_train_smote\n",
        "from sklearn.metrics import plot_confusion_matrix\n",
        "\"\"\"svc = svm.SVC(C=300, kernel=\"rbf\", probability=True,\n",
        "              random_state=100,gamma=0.5, tol=0.6,max_iter= 1000)\"\"\"\n",
        "\n",
        "svc = svm.SVC(C=3, kernel=\"rbf\",\n",
        "              random_state=5,gamma=0.08, tol=0.06,max_iter= 400,probability=True)\n",
        "\n",
        "clf=svc.fit(X_train_smote, y_train_smote)\n",
        "#y_pred_svm = svc.predict(X_test)\n",
        "\n",
        "\n",
        "y_pred_svm  = svc.predict(X_test)\n",
        "\n",
        "predictions = [round(value) for value in y_pred]\n",
        "accuracy = accuracy_score(y_test, y_pred_svm)\n",
        "print(\"Accuracy: %.2f%%\" % (accuracy * 100.0))\n",
        "pd.crosstab(y_test,y_pred_svm)\n",
        "Xg = svc.predict_proba(X_test)[0]\n",
        "thr3=np.where(svc.predict_proba(X_test)[:,1]>0.7,1,0)\n",
        "pd.crosstab(y_test,y_pred_svm)\n"
      ],
      "execution_count": null,
      "outputs": [
        {
          "output_type": "stream",
          "text": [
            "Accuracy: 84.04%\n"
          ],
          "name": "stdout"
        },
        {
          "output_type": "execute_result",
          "data": {
            "text/html": [
              "<div>\n",
              "<style scoped>\n",
              "    .dataframe tbody tr th:only-of-type {\n",
              "        vertical-align: middle;\n",
              "    }\n",
              "\n",
              "    .dataframe tbody tr th {\n",
              "        vertical-align: top;\n",
              "    }\n",
              "\n",
              "    .dataframe thead th {\n",
              "        text-align: right;\n",
              "    }\n",
              "</style>\n",
              "<table border=\"1\" class=\"dataframe\">\n",
              "  <thead>\n",
              "    <tr style=\"text-align: right;\">\n",
              "      <th>col_0</th>\n",
              "      <th>0</th>\n",
              "      <th>1</th>\n",
              "    </tr>\n",
              "    <tr>\n",
              "      <th>attempt_suicide</th>\n",
              "      <th></th>\n",
              "      <th></th>\n",
              "    </tr>\n",
              "  </thead>\n",
              "  <tbody>\n",
              "    <tr>\n",
              "      <th>0</th>\n",
              "      <td>75</td>\n",
              "      <td>9</td>\n",
              "    </tr>\n",
              "    <tr>\n",
              "      <th>1</th>\n",
              "      <td>6</td>\n",
              "      <td>4</td>\n",
              "    </tr>\n",
              "  </tbody>\n",
              "</table>\n",
              "</div>"
            ],
            "text/plain": [
              "col_0             0  1\n",
              "attempt_suicide       \n",
              "0                75  9\n",
              "1                 6  4"
            ]
          },
          "metadata": {
            "tags": []
          },
          "execution_count": 554
        }
      ]
    },
    {
      "cell_type": "code",
      "metadata": {
        "colab": {
          "base_uri": "https://localhost:8080/",
          "height": 318
        },
        "id": "Tt8Y3QGmXyNT",
        "outputId": "12ed10a6-9ec2-435b-dc00-ebe15d5a0362"
      },
      "source": [
        "from sklearn.metrics import roc_curve,roc_auc_score\n",
        "fprv, tprv, thresholds = roc_curve(y_test, svc.predict_proba(X_test)[:,1],drop_intermediate=False)\n",
        "aucv = roc_auc_score(y_test,svc.predict_proba(X_test)[:,1])\n",
        "print(\"roc_auc_score\",aucv)\n",
        "plt.xlim([0.0, 1.0])\n",
        "plt.ylim([0.0, 1.0])\n",
        "plt.title('ROC curve for breast cancer classifier')\n",
        "plt.xlabel('False Positive Rate (1 - Specificity)')\n",
        "plt.ylabel('True Positive Rate (Sensitivity)')\n",
        "plt.plot(fpr, tpr,color='red',lw=5)\n",
        "plt.show()"
      ],
      "execution_count": null,
      "outputs": [
        {
          "output_type": "stream",
          "text": [
            "roc_auc_score 0.7047619047619048\n"
          ],
          "name": "stdout"
        },
        {
          "output_type": "display_data",
          "data": {
            "image/png": "[encoded data removed]",
            "text/plain": [
              "<Figure size 432x288 with 1 Axes>"
            ]
          },
          "metadata": {
            "tags": [],
            "needs_background": "light"
          }
        }
      ]
    },
    {
      "cell_type": "code",
      "metadata": {
        "colab": {
          "base_uri": "https://localhost:8080/",
          "height": 472
        },
        "id": "G3BEvKu9eI1c",
        "outputId": "01bb6578-b0cf-4c18-d920-76324553e506"
      },
      "source": [
        "import seaborn as sns\n",
        "from sklearn.metrics import confusion_matrix,classification_report\n",
        "cf_matrix = confusion_matrix(y_test, y_pred_svm)\n",
        "print(cf_matrix)\n",
        "group_names = [\"True Pos\",\"False Neg\",\"False Pos\",\"True Neg\"]\n",
        "group_counts = ['{0:0.0f}'.format(value) for value in\n",
        "                cf_matrix.flatten()]\n",
        "group_percentages = ['{0:.2%}'.format(value) for value in\n",
        "                     cf_matrix.flatten()/np.sum(cf_matrix)]\n",
        "labels = [f'{v1}\\n{v2}\\n{v3}' for v1, v2, v3 in\n",
        "          zip(group_names,group_counts,group_percentages)]\n",
        "labels = np.asarray(labels).reshape(2,2)\n",
        "import seaborn as sns\n",
        "sns.heatmap(cf_matrix, annot=labels, fmt=\"\", cmap='Blues')\n",
        "#labels = [\"True Neg\",\"False Pos\",\"False Neg\",\"True Pos\"]\n",
        "\n",
        "plt.xlabel(\"Predict\")\n",
        "plt.ylabel(\"Truth\")\n",
        "plt.show()\n",
        "print(classification_report(y_test,y_pred_svm))"
      ],
      "execution_count": null,
      "outputs": [
        {
          "output_type": "stream",
          "text": [
            "[[75  9]\n",
            " [ 6  4]]\n"
          ],
          "name": "stdout"
        },
        {
          "output_type": "display_data",
          "data": {
            "image/png": "[encoded data removed]",
            "text/plain": [
              "<Figure size 432x288 with 2 Axes>"
            ]
          },
          "metadata": {
            "tags": [],
            "needs_background": "light"
          }
        },
        {
          "output_type": "stream",
          "text": [
            "              precision    recall  f1-score   support\n",
            "\n",
            "           0       0.93      0.89      0.91        84\n",
            "           1       0.31      0.40      0.35        10\n",
            "\n",
            "    accuracy                           0.84        94\n",
            "   macro avg       0.62      0.65      0.63        94\n",
            "weighted avg       0.86      0.84      0.85        94\n",
            "\n"
          ],
          "name": "stdout"
        }
      ]
    },
    {
      "cell_type": "code",
      "metadata": {
        "colab": {
          "base_uri": "https://localhost:8080/"
        },
        "id": "gX7xbgdWnhCO",
        "outputId": "d588b5ca-54da-4672-b69c-b1ddafa0366d"
      },
      "source": [
        "from sklearn.ensemble import RandomForestClassifier\n",
        "#X_train_smote y_train_smote\n",
        "\"\"\"model = RandomForestClassifier(n_estimators = 100,max_depth=7\n",
        "                               ,random_state=5)\"\"\"\n",
        "\n",
        "\"\"\"model = RandomForestClassifier(n_estimators = 100,max_depth=6\n",
        "                               ,random_state=30)\"\"\"\n",
        "\n",
        "\"\"\"model = RandomForestClassifier(n_estimators = 300,max_depth=7\n",
        "                               ,random_state=10,verbose=0)for imbalance\"\"\"\n",
        "model = RandomForestClassifier(n_estimators = 400,max_depth=20\n",
        "                               ,random_state=5)\n",
        "\n",
        "model.fit(X_train_smote,y_train_smote)\n",
        "pre = model.predict(X_test)\n",
        "from sklearn import metrics\n",
        "predictions = [round(value) for value in pre]\n",
        "accuracy = accuracy_score(y_test, predictions)\n",
        "y_preds = model.predict_proba(X_test)[:,1]\n",
        "\n",
        "# take the second column because the classifier outputs scores for\n",
        "# the 0 class as well\n",
        "#preds = y_preds[:,1]\n",
        "print(\"Accuracy: %.2f%%\" % (accuracy * 100.0))"
      ],
      "execution_count": null,
      "outputs": [
        {
          "output_type": "stream",
          "text": [
            "Accuracy: 85.11%\n"
          ],
          "name": "stdout"
        }
      ]
    },
    {
      "cell_type": "code",
      "metadata": {
        "colab": {
          "base_uri": "https://localhost:8080/",
          "height": 137
        },
        "id": "pjSbVtpi6Jbo",
        "outputId": "a1906216-e159-4d68-f463-4bbb56e7b80a"
      },
      "source": [
        "\"\"\"from sklearn.model_selection import GridSearchCV\n",
        "clf =  RandomForestClassifier()\n",
        "parameters = {\n",
        "    'n_estimators': [100, 200, 400],\n",
        "    'max_depth': [7, 14, 21],\n",
        "    'random_state': [5, 10,25]\n",
        "}\n",
        "grid = GridSearchCV(clf,\n",
        "                    parameters, n_jobs=4,\n",
        "                    scoring=\"neg_log_loss\",\n",
        "                    cv=3)\n",
        "\n",
        "grid.fit(X_train, y_train)\n",
        "print(\"Best: %f using %s\" % (grid.best_score_, grid.best_params_))\n",
        "\n",
        "means = grid.cv_results_['mean_test_score']\n",
        "stds = grid.cv_results_['std_test_score']\n",
        "params = grid.cv_results_['params']\n",
        "\n",
        "for mean, stdev, param in zip(means, stds, params):\n",
        "    print(\"%f (%f) with: %r\" % (mean, stdev, param))\"\"\""
      ],
      "execution_count": null,
      "outputs": [
        {
          "output_type": "execute_result",
          "data": {
            "application/vnd.google.colaboratory.intrinsic+json": {
              "type": "string"
            },
            "text/plain": [
              "'from sklearn.model_selection import GridSearchCV\\nclf =  RandomForestClassifier()\\nparameters = {\\n    \\'n_estimators\\': [100, 200, 400],\\n    \\'max_depth\\': [7, 14, 21],\\n    \\'random_state\\': [5, 10,25]\\n}\\ngrid = GridSearchCV(clf,\\n                    parameters, n_jobs=4,\\n                    scoring=\"neg_log_loss\",\\n                    cv=3)\\n\\ngrid.fit(X_train, y_train)\\nprint(\"Best: %f using %s\" % (grid.best_score_, grid.best_params_))\\n\\nmeans = grid.cv_results_[\\'mean_test_score\\']\\nstds = grid.cv_results_[\\'std_test_score\\']\\nparams = grid.cv_results_[\\'params\\']\\n\\nfor mean, stdev, param in zip(means, stds, params):\\n    print(\"%f (%f) with: %r\" % (mean, stdev, param))'"
            ]
          },
          "metadata": {
            "tags": []
          },
          "execution_count": 558
        }
      ]
    },
    {
      "cell_type": "code",
      "metadata": {
        "colab": {
          "base_uri": "https://localhost:8080/",
          "height": 472
        },
        "id": "Gi6CypbggKK-",
        "outputId": "8a61563e-ecda-4737-d858-c7045ca48a0b"
      },
      "source": [
        "import seaborn as sns\n",
        "from sklearn.metrics import confusion_matrix,classification_report\n",
        "cf_matrix = confusion_matrix(y_test, pre)\n",
        "print(cf_matrix)\n",
        "group_names = [\"True Pos\",\"False Neg\",\"False Pos\",\"True Neg\"]\n",
        "group_counts = ['{0:0.0f}'.format(value) for value in\n",
        "                cf_matrix.flatten()]\n",
        "group_percentages = ['{0:.2%}'.format(value) for value in\n",
        "                     cf_matrix.flatten()/np.sum(cf_matrix)]\n",
        "labels = [f'{v1}\\n{v2}\\n{v3}' for v1, v2, v3 in\n",
        "          zip(group_names,group_counts,group_percentages)]\n",
        "labels = np.asarray(labels).reshape(2,2)\n",
        "import seaborn as sns\n",
        "sns.heatmap(cf_matrix, annot=labels, fmt=\"\", cmap='Blues')\n",
        "#labels = [\"True Neg\",\"False Pos\",\"False Neg\",\"True Pos\"]\n",
        "\n",
        "plt.xlabel(\"Predict\")\n",
        "plt.ylabel(\"Truth\")\n",
        "plt.show()\n",
        "print(classification_report(y_test,pre))"
      ],
      "execution_count": null,
      "outputs": [
        {
          "output_type": "stream",
          "text": [
            "[[77  7]\n",
            " [ 7  3]]\n"
          ],
          "name": "stdout"
        },
        {
          "output_type": "display_data",
          "data": {
            "image/png": "[encoded data removed]",
            "text/plain": [
              "<Figure size 432x288 with 2 Axes>"
            ]
          },
          "metadata": {
            "tags": [],
            "needs_background": "light"
          }
        },
        {
          "output_type": "stream",
          "text": [
            "              precision    recall  f1-score   support\n",
            "\n",
            "           0       0.92      0.92      0.92        84\n",
            "           1       0.30      0.30      0.30        10\n",
            "\n",
            "    accuracy                           0.85        94\n",
            "   macro avg       0.61      0.61      0.61        94\n",
            "weighted avg       0.85      0.85      0.85        94\n",
            "\n"
          ],
          "name": "stdout"
        }
      ]
    },
    {
      "cell_type": "code",
      "metadata": {
        "colab": {
          "base_uri": "https://localhost:8080/",
          "height": 318
        },
        "id": "yl0Jgq9va2pZ",
        "outputId": "41b58b72-ebb4-48cc-8beb-32e77ae61d13"
      },
      "source": [
        "from sklearn.metrics import roc_curve,roc_auc_score\n",
        "fpr, tpr, thresholds = roc_curve(y_test, model.predict_proba(X_test)[:,1],drop_intermediate=False)\n",
        "auc = roc_auc_score(y_test,model.predict_proba(X_test)[:,1])\n",
        "print(\"roc_auc_score\",auc)\n",
        "plt.xlim([0.0, 1.0])\n",
        "plt.ylim([0.0, 1.0])\n",
        "plt.title('ROC curve for breast cancer classifier')\n",
        "plt.xlabel('False Positive Rate (1 - Specificity)')\n",
        "plt.ylabel('True Positive Rate (Sensitivity)')\n",
        "plt.plot(fpr, tpr,color='red',lw=5)\n",
        "plt.show()"
      ],
      "execution_count": null,
      "outputs": [
        {
          "output_type": "stream",
          "text": [
            "roc_auc_score 0.7267857142857143\n"
          ],
          "name": "stdout"
        },
        {
          "output_type": "display_data",
          "data": {
            "image/png": "[encoded data removed]",
            "text/plain": [
              "<Figure size 432x288 with 1 Axes>"
            ]
          },
          "metadata": {
            "tags": [],
            "needs_background": "light"
          }
        }
      ]
    },
    {
      "cell_type": "code",
      "metadata": {
        "id": "Wf6WmE4lb1el"
      },
      "source": [
        "from sklearn.metrics import roc_curve, roc_auc_score\n",
        "%matplotlib inline\n",
        "import matplotlib.pyplot as plt\n",
        "import seaborn as sns\n",
        "sns.set()\n",
        "\n",
        "import warnings\n",
        "warnings.filterwarnings('ignore')"
      ],
      "execution_count": null,
      "outputs": []
    },
    {
      "cell_type": "code",
      "metadata": {
        "colab": {
          "base_uri": "https://localhost:8080/",
          "height": 607
        },
        "id": "3RzP1PBY7oAy",
        "outputId": "d276a4ab-5884-42bb-9070-64ffd3027ebf"
      },
      "source": [
        "# Instantiate the classfiers and make a list\n",
        "\"\"\"xgbmodel =  XGBClassifier(max_depth=12,subsample=0.7,n_estimators=250,\n",
        "                      learning_rate=0.01,min_child_weight=0.6,\n",
        "                      random_state = 10,scale_pos_weight=0.4, \n",
        "                      colsample_bytree = 0.5)\"\"\"\n",
        "from sklearn import svm\n",
        "rfmodel = RandomForestClassifier(n_estimators = 400,max_depth=20\n",
        "                               ,random_state=5)\n",
        "\n",
        "lgbmodel =  lgb.LGBMClassifier(learning_rate=0.05,n_estimators= 400,\n",
        "                          random_state=42,max_depth= 10,max_bin = 100,\n",
        "                           num_leaves = 25,min_child_weight=0.2,\n",
        "                           feature_fraction = 0.9,) \n",
        "\n",
        "classifiers = [rfmodel,lgbmodel]\n",
        "\"\"\"classifiers = [xgb.XGBClassifier(), \n",
        "               RandomForestClassifier(n_estimators = 20), \n",
        "               svm.SVC(), \n",
        "               lgb.LGBMClassifier()]\"\"\"\n",
        "\n",
        "# Define a result table as a DataFrame\n",
        "result_table = pd.DataFrame(columns=['classifiers', 'fpr','tpr','auc'])\n",
        "\n",
        "for cls in classifiers:\n",
        "    #print(\"fdsfdf\")\n",
        "    model = cls.fit(X_train_smote, y_train_smote)\n",
        "    yproba = model.predict_proba(X_test)[::,1]\n",
        "    \n",
        "    #fpr, tpr, _ = roc_curve(y_test,  yproba)\n",
        "    fpr, tpr, _ = roc_curve(y_test,  yproba)\n",
        "    auc = roc_auc_score(y_test, yproba)\n",
        "    \n",
        "    result_table = result_table.append({'classifiers':cls.__class__.__name__,\n",
        "                                        'fpr':fpr, \n",
        "                                        'tpr':tpr, \n",
        "                                        'auc':auc}, ignore_index=True)\n",
        "\n",
        "\n",
        "# Set name of the classifiers as index labels\n",
        "svm = svm.SVC(C=10, kernel=\"rbf\",\n",
        "              random_state=42,gamma=0.1, tol=0.01,max_iter= 100000,probability=True)\n",
        "print(aucv)\n",
        "result_table = result_table.append({'classifiers':svm.__class__.__name__,\n",
        "                                        'fpr':fprv, \n",
        "                                        'tpr':tprv, \n",
        "                                        'auc':aucv}, ignore_index=True)\n",
        "\n",
        "#xgb\n",
        "xgbmodel =  XGBClassifier(max_depth=12,subsample=0.7,n_estimators=250,\n",
        "                      learning_rate=0.01,min_child_weight=0.6,\n",
        "                      random_state = 10,scale_pos_weight=0.4, \n",
        "                      colsample_bytree = 0.5)\n",
        "aucxgb = roc_auc_score(y_test, xgbyproba)\n",
        "result_table = result_table.append({'classifiers':xgbmodel.__class__.__name__,\n",
        "                                        'fpr':xgbt_fpr, \n",
        "                                        'tpr':xgbt_tpr, \n",
        "                                        'auc':aucxgb}, ignore_index=True)\n",
        "result_table.set_index('classifiers', inplace=True)\n",
        "\n",
        "#print(result_table.count)\n",
        "fig = plt.figure(figsize=(10,8))\n",
        "\n",
        "for i in result_table.index:\n",
        "    print(\"xxxx\")\n",
        "    plt.plot(result_table.loc[i]['fpr'], \n",
        "             result_table.loc[i]['tpr'], \n",
        "             label=\"{}, AUC={:.1f}\".format(i, result_table.loc[i]['auc']*100))\n",
        "    \n",
        "plt.plot([0,1], [0,1], color='orange', linestyle='--')\n",
        "\n",
        "plt.xticks(np.arange(0.0, 1.1, step=0.1))\n",
        "plt.xlabel(\"Flase Positive Rate\", fontsize=15)\n",
        "\n",
        "plt.yticks(np.arange(0.0, 1.1, step=0.1))\n",
        "plt.ylabel(\"True Positive Rate\", fontsize=15)\n",
        "\n",
        "plt.title('ROC Curve Analysis', fontweight='bold', fontsize=15)\n",
        "plt.legend(prop={'size':13}, loc='lower right')\n",
        "\n",
        "plt.show()\n"
      ],
      "execution_count": null,
      "outputs": [
        {
          "output_type": "stream",
          "text": [
            "0.7047619047619048\n",
            "xxxx\n",
            "xxxx\n",
            "xxxx\n",
            "xxxx\n"
          ],
          "name": "stdout"
        },
        {
          "output_type": "display_data",
          "data": {
            "image/png": "[encoded data removed]",
            "text/plain": [
              "<Figure size 720x576 with 1 Axes>"
            ]
          },
          "metadata": {
            "tags": []
          }
        }
      ]
    },
    {
      "cell_type": "code",
      "metadata": {
        "id": "p8O0PHFSEjGl"
      },
      "source": [
        ""
      ],
      "execution_count": null,
      "outputs": []
    }
  ]
}